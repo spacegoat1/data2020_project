{
 "cells": [
  {
   "cell_type": "code",
   "execution_count": null,
   "id": "aab6f8c7-ec71-4b0d-86df-c1386f2c061f",
   "metadata": {
    "vscode": {
     "languageId": "r"
    }
   },
   "outputs": [],
   "source": [
    "library(tidyverse)\n",
    "library(naniar)\n",
    "library(visdat)\n",
    "library(ggplot2)\n",
    "library(lubridate)\n",
    "library(gridExtra)\n",
    "library(GGally)\n",
    "library(corrr)\n",
    "library(dplyr)\n",
    "library(car)\n",
    "library(mgcv)\n",
    "library(ggfortify)"
   ]
  },
  {
   "cell_type": "markdown",
   "id": "ddab7f87",
   "metadata": {},
   "source": [
    "### 1. Initial data load and feature subset/tranform etc. "
   ]
  },
  {
   "cell_type": "code",
   "execution_count": 3,
   "id": "4377c249-d930-4c0e-b02d-adc92071f073",
   "metadata": {
    "vscode": {
     "languageId": "r"
    }
   },
   "outputs": [],
   "source": [
    "data = read.csv('data/fatal-police-shootings-data.csv', na.strings=c(\"\",\"NA\"))"
   ]
  },
  {
   "cell_type": "code",
   "execution_count": 4,
   "id": "41e8a224",
   "metadata": {
    "vscode": {
     "languageId": "r"
    }
   },
   "outputs": [
    {
     "data": {
      "text/html": [
       "<style>\n",
       ".list-inline {list-style: none; margin:0; padding: 0}\n",
       ".list-inline>li {display: inline-block}\n",
       ".list-inline>li:not(:last-child)::after {content: \"\\00b7\"; padding: 0 .5ex}\n",
       "</style>\n",
       "<ol class=list-inline><li>7291</li><li>19</li></ol>\n"
      ],
      "text/latex": [
       "\\begin{enumerate*}\n",
       "\\item 7291\n",
       "\\item 19\n",
       "\\end{enumerate*}\n"
      ],
      "text/markdown": [
       "1. 7291\n",
       "2. 19\n",
       "\n",
       "\n"
      ],
      "text/plain": [
       "[1] 7291   19"
      ]
     },
     "metadata": {},
     "output_type": "display_data"
    },
    {
     "data": {
      "text/html": [
       "<style>\n",
       ".list-inline {list-style: none; margin:0; padding: 0}\n",
       ".list-inline>li {display: inline-block}\n",
       ".list-inline>li:not(:last-child)::after {content: \"\\00b7\"; padding: 0 .5ex}\n",
       "</style>\n",
       "<ol class=list-inline><li>'id'</li><li>'name'</li><li>'date'</li><li>'manner_of_death'</li><li>'armed'</li><li>'age'</li><li>'gender'</li><li>'race'</li><li>'city'</li><li>'state'</li><li>'signs_of_mental_illness'</li><li>'threat_level'</li><li>'flee'</li><li>'body_camera'</li><li>'longitude'</li><li>'latitude'</li><li>'is_geocoding_exact'</li><li>'smha_exp_per_capita'</li><li>'smi_prevalance'</li></ol>\n"
      ],
      "text/latex": [
       "\\begin{enumerate*}\n",
       "\\item 'id'\n",
       "\\item 'name'\n",
       "\\item 'date'\n",
       "\\item 'manner\\_of\\_death'\n",
       "\\item 'armed'\n",
       "\\item 'age'\n",
       "\\item 'gender'\n",
       "\\item 'race'\n",
       "\\item 'city'\n",
       "\\item 'state'\n",
       "\\item 'signs\\_of\\_mental\\_illness'\n",
       "\\item 'threat\\_level'\n",
       "\\item 'flee'\n",
       "\\item 'body\\_camera'\n",
       "\\item 'longitude'\n",
       "\\item 'latitude'\n",
       "\\item 'is\\_geocoding\\_exact'\n",
       "\\item 'smha\\_exp\\_per\\_capita'\n",
       "\\item 'smi\\_prevalance'\n",
       "\\end{enumerate*}\n"
      ],
      "text/markdown": [
       "1. 'id'\n",
       "2. 'name'\n",
       "3. 'date'\n",
       "4. 'manner_of_death'\n",
       "5. 'armed'\n",
       "6. 'age'\n",
       "7. 'gender'\n",
       "8. 'race'\n",
       "9. 'city'\n",
       "10. 'state'\n",
       "11. 'signs_of_mental_illness'\n",
       "12. 'threat_level'\n",
       "13. 'flee'\n",
       "14. 'body_camera'\n",
       "15. 'longitude'\n",
       "16. 'latitude'\n",
       "17. 'is_geocoding_exact'\n",
       "18. 'smha_exp_per_capita'\n",
       "19. 'smi_prevalance'\n",
       "\n",
       "\n"
      ],
      "text/plain": [
       " [1] \"id\"                      \"name\"                   \n",
       " [3] \"date\"                    \"manner_of_death\"        \n",
       " [5] \"armed\"                   \"age\"                    \n",
       " [7] \"gender\"                  \"race\"                   \n",
       " [9] \"city\"                    \"state\"                  \n",
       "[11] \"signs_of_mental_illness\" \"threat_level\"           \n",
       "[13] \"flee\"                    \"body_camera\"            \n",
       "[15] \"longitude\"               \"latitude\"               \n",
       "[17] \"is_geocoding_exact\"      \"smha_exp_per_capita\"    \n",
       "[19] \"smi_prevalance\"         "
      ]
     },
     "metadata": {},
     "output_type": "display_data"
    }
   ],
   "source": [
    "dim(data)\n",
    "names(data)"
   ]
  },
  {
   "cell_type": "markdown",
   "id": "7a628b66",
   "metadata": {},
   "source": [
    "#### Drop features as necessary"
   ]
  },
  {
   "cell_type": "code",
   "execution_count": 5,
   "id": "c34da087",
   "metadata": {
    "vscode": {
     "languageId": "r"
    }
   },
   "outputs": [],
   "source": [
    "features_to_keep = c(\"date\",\"armed\",\"age\",\"gender\",\"race\",\"state\",\"flee\",\"body_camera\",\"signs_of_mental_illness\")\n",
    "data = data[, (names(data) %in% features_to_keep)]"
   ]
  },
  {
   "cell_type": "markdown",
   "id": "4b35fa64",
   "metadata": {},
   "source": [
    "#### Convert features to desired datatypes"
   ]
  },
  {
   "cell_type": "code",
   "execution_count": 6,
   "id": "c8674682",
   "metadata": {
    "vscode": {
     "languageId": "r"
    }
   },
   "outputs": [],
   "source": [
    "factor_cols = c(\"armed\", \"gender\", \"race\", \"state\", \"flee\", \"body_camera\", \"signs_of_mental_illness\")\n",
    "numeric_cols = c(\"age\")\n",
    "\n",
    "data <- data %>% \n",
    "    mutate(across(.cols=all_of(factor_cols), .fns = as.factor))\n",
    "data <- data %>% \n",
    "    mutate(across(.cols=all_of(numeric_cols), .fns = as.numeric))\n",
    "data <- data %>% \n",
    "    mutate(across(.cols=\"date\", .fns = as_date))"
   ]
  },
  {
   "cell_type": "markdown",
   "id": "3c32a30d",
   "metadata": {},
   "source": [
    "#### Transform features as required"
   ]
  },
  {
   "cell_type": "code",
   "execution_count": 7,
   "id": "78a1a080",
   "metadata": {
    "vscode": {
     "languageId": "r"
    }
   },
   "outputs": [],
   "source": [
    "# For some reason, this kept throwing an error for me, so I tried another method\n",
    "data = data %>% \n",
    "  mutate(armed = case_when(\n",
    "    armed == \"gun\" ~ \"gun\",\n",
    "    armed == \"knife\" ~ \"knife\",\n",
    "    armed == \"vehicle\" ~ \"vehicle\",\n",
    "    armed == \"unarmed\" ~ \"unarmed\",\n",
    "    armed == \"undetermined\" ~ \"undetermined\",\n",
    "    TRUE ~ \"other\",\n",
    "  )\n",
    ")"
   ]
  },
  {
   "cell_type": "code",
   "execution_count": 8,
   "id": "195201a3",
   "metadata": {
    "vscode": {
     "languageId": "r"
    }
   },
   "outputs": [
    {
     "data": {
      "text/html": [
       "<style>\n",
       ".dl-inline {width: auto; margin:0; padding: 0}\n",
       ".dl-inline>dt, .dl-inline>dd {float: none; width: auto; display: inline-block}\n",
       ".dl-inline>dt::after {content: \":\\0020\"; padding-right: .5ex}\n",
       ".dl-inline>dt:not(:first-of-type) {padding-left: .5ex}\n",
       "</style><dl class=dl-inline><dt>B</dt><dd>1595</dd><dt>H</dt><dd>1089</dd><dt>O</dt><dd>1584</dd><dt>W</dt><dd>3023</dd></dl>\n"
      ],
      "text/latex": [
       "\\begin{description*}\n",
       "\\item[B] 1595\n",
       "\\item[H] 1089\n",
       "\\item[O] 1584\n",
       "\\item[W] 3023\n",
       "\\end{description*}\n"
      ],
      "text/markdown": [
       "B\n",
       ":   1595H\n",
       ":   1089O\n",
       ":   1584W\n",
       ":   3023\n",
       "\n"
      ],
      "text/plain": [
       "   B    H    O    W \n",
       "1595 1089 1584 3023 "
      ]
     },
     "metadata": {},
     "output_type": "display_data"
    }
   ],
   "source": [
    "# Race -> Combine A/N/O/NA under O?\n",
    "data = data %>% \n",
    "  mutate(race = case_when(\n",
    "    race == \"W\" ~ \"W\",\n",
    "    race == \"B\" ~ \"B\",\n",
    "    race == \"H\" ~ \"H\",\n",
    "    TRUE ~ \"O\",\n",
    "  )\n",
    ")\n",
    "data$race = as.factor(data$race)\n",
    "summary(data$race)"
   ]
  },
  {
   "cell_type": "code",
   "execution_count": 9,
   "id": "45512ca6",
   "metadata": {
    "vscode": {
     "languageId": "r"
    }
   },
   "outputs": [
    {
     "data": {
      "text/html": [
       "<style>\n",
       ".dl-inline {width: auto; margin:0; padding: 0}\n",
       ".dl-inline>dt, .dl-inline>dd {float: none; width: auto; display: inline-block}\n",
       ".dl-inline>dt::after {content: \":\\0020\"; padding-right: .5ex}\n",
       ".dl-inline>dt:not(:first-of-type) {padding-left: .5ex}\n",
       "</style><dl class=dl-inline><dt>Car</dt><dd>1183</dd><dt>Foot</dt><dd>943</dd><dt>Missing</dt><dd>666</dd><dt>Not fleeing</dt><dd>4232</dd><dt>Other</dt><dd>267</dd></dl>\n"
      ],
      "text/latex": [
       "\\begin{description*}\n",
       "\\item[Car] 1183\n",
       "\\item[Foot] 943\n",
       "\\item[Missing] 666\n",
       "\\item[Not fleeing] 4232\n",
       "\\item[Other] 267\n",
       "\\end{description*}\n"
      ],
      "text/markdown": [
       "Car\n",
       ":   1183Foot\n",
       ":   943Missing\n",
       ":   666Not fleeing\n",
       ":   4232Other\n",
       ":   267\n",
       "\n"
      ],
      "text/plain": [
       "        Car        Foot     Missing Not fleeing       Other \n",
       "       1183         943         666        4232         267 "
      ]
     },
     "metadata": {},
     "output_type": "display_data"
    }
   ],
   "source": [
    "# Fleeing -> convert NA to 'Missing'\n",
    "data = data %>% \n",
    "  mutate(flee = case_when(\n",
    "    flee == \"Car\" ~ \"Car\",\n",
    "    flee == \"Foot\" ~ \"Foot\",\n",
    "    flee == \"Not fleeing\" ~ \"Not fleeing\",\n",
    "    flee == \"Other\" ~ \"Other\",\n",
    "    TRUE ~ \"Missing\",\n",
    "  )\n",
    ")\n",
    "data$flee = as.factor(data$flee)\n",
    "summary(data$flee)"
   ]
  },
  {
   "cell_type": "markdown",
   "id": "03015ae6-a36c-440d-a909-8b30960cb8ca",
   "metadata": {},
   "source": [
    "### 2. Dealing with missing values"
   ]
  },
  {
   "cell_type": "markdown",
   "id": "92d9a2a8-b59f-41a8-bc08-949786219ff2",
   "metadata": {},
   "source": [
    "Check missing data frequency for each column"
   ]
  },
  {
   "cell_type": "code",
   "execution_count": 10,
   "id": "1e465b1f",
   "metadata": {
    "vscode": {
     "languageId": "r"
    }
   },
   "outputs": [
    {
     "data": {
      "text/html": [
       "<table class=\"dataframe\">\n",
       "<caption>A data.frame: 9 × 1</caption>\n",
       "<thead>\n",
       "\t<tr><th></th><th scope=col>(colMeans(is.na(data))) * 100</th></tr>\n",
       "\t<tr><th></th><th scope=col>&lt;dbl&gt;</th></tr>\n",
       "</thead>\n",
       "<tbody>\n",
       "\t<tr><th scope=row>date</th><td>0.0000000</td></tr>\n",
       "\t<tr><th scope=row>armed</th><td>0.0000000</td></tr>\n",
       "\t<tr><th scope=row>age</th><td>5.7742422</td></tr>\n",
       "\t<tr><th scope=row>gender</th><td>0.1371554</td></tr>\n",
       "\t<tr><th scope=row>race</th><td>0.0000000</td></tr>\n",
       "\t<tr><th scope=row>state</th><td>0.0000000</td></tr>\n",
       "\t<tr><th scope=row>signs_of_mental_illness</th><td>0.0000000</td></tr>\n",
       "\t<tr><th scope=row>flee</th><td>0.0000000</td></tr>\n",
       "\t<tr><th scope=row>body_camera</th><td>0.0000000</td></tr>\n",
       "</tbody>\n",
       "</table>\n"
      ],
      "text/latex": [
       "A data.frame: 9 × 1\n",
       "\\begin{tabular}{r|l}\n",
       "  & (colMeans(is.na(data))) * 100\\\\\n",
       "  & <dbl>\\\\\n",
       "\\hline\n",
       "\tdate & 0.0000000\\\\\n",
       "\tarmed & 0.0000000\\\\\n",
       "\tage & 5.7742422\\\\\n",
       "\tgender & 0.1371554\\\\\n",
       "\trace & 0.0000000\\\\\n",
       "\tstate & 0.0000000\\\\\n",
       "\tsigns\\_of\\_mental\\_illness & 0.0000000\\\\\n",
       "\tflee & 0.0000000\\\\\n",
       "\tbody\\_camera & 0.0000000\\\\\n",
       "\\end{tabular}\n"
      ],
      "text/markdown": [
       "\n",
       "A data.frame: 9 × 1\n",
       "\n",
       "| <!--/--> | (colMeans(is.na(data))) * 100 &lt;dbl&gt; |\n",
       "|---|---|\n",
       "| date | 0.0000000 |\n",
       "| armed | 0.0000000 |\n",
       "| age | 5.7742422 |\n",
       "| gender | 0.1371554 |\n",
       "| race | 0.0000000 |\n",
       "| state | 0.0000000 |\n",
       "| signs_of_mental_illness | 0.0000000 |\n",
       "| flee | 0.0000000 |\n",
       "| body_camera | 0.0000000 |\n",
       "\n"
      ],
      "text/plain": [
       "                        (colMeans(is.na(data))) * 100\n",
       "date                    0.0000000                    \n",
       "armed                   0.0000000                    \n",
       "age                     5.7742422                    \n",
       "gender                  0.1371554                    \n",
       "race                    0.0000000                    \n",
       "state                   0.0000000                    \n",
       "signs_of_mental_illness 0.0000000                    \n",
       "flee                    0.0000000                    \n",
       "body_camera             0.0000000                    "
      ]
     },
     "metadata": {},
     "output_type": "display_data"
    }
   ],
   "source": [
    "# Percent missing values per column\n",
    "as.data.frame((colMeans(is.na(data)))*100)"
   ]
  },
  {
   "cell_type": "markdown",
   "id": "ff719b79-51a5-4702-95f7-8d82b6574524",
   "metadata": {},
   "source": [
    "Check patterns in data missingness"
   ]
  },
  {
   "cell_type": "code",
   "execution_count": 11,
   "id": "5fab5dc4",
   "metadata": {
    "vscode": {
     "languageId": "r"
    }
   },
   "outputs": [
    {
     "name": "stderr",
     "output_type": "stream",
     "text": [
      "Warning message:\n",
      "“`gather_()` was deprecated in tidyr 1.2.0.\n",
      "Please use `gather()` instead.\n",
      "\u001b[90mThis warning is displayed once every 8 hours.\u001b[39m\n",
      "\u001b[90mCall `lifecycle::last_lifecycle_warnings()` to see where this warning was generated.\u001b[39m”\n"
     ]
    },
    {
     "data": {
      "image/png": "[encoded data removed]",
      "text/plain": [
       "plot without title"
      ]
     },
     "metadata": {
      "image/png": {
       "height": 540,
       "width": 600
      }
     },
     "output_type": "display_data"
    }
   ],
   "source": [
    "options(repr.plot.width=10, repr.plot.height=9)\n",
    "vis_miss(data)"
   ]
  },
  {
   "cell_type": "code",
   "execution_count": 12,
   "id": "23696d22",
   "metadata": {
    "vscode": {
     "languageId": "r"
    }
   },
   "outputs": [
    {
     "data": {
      "image/png": "[encoded data removed]",
      "text/plain": [
       "plot without title"
      ]
     },
     "metadata": {
      "image/png": {
       "height": 540,
       "width": 600
      }
     },
     "output_type": "display_data"
    }
   ],
   "source": [
    "vis_miss(data, cluster = TRUE, sort_miss = TRUE)"
   ]
  },
  {
   "cell_type": "code",
   "execution_count": 13,
   "id": "245ea751",
   "metadata": {
    "vscode": {
     "languageId": "r"
    }
   },
   "outputs": [
    {
     "data": {
      "text/html": [
       "<style>\n",
       ".dl-inline {width: auto; margin:0; padding: 0}\n",
       ".dl-inline>dt, .dl-inline>dd {float: none; width: auto; display: inline-block}\n",
       ".dl-inline>dt::after {content: \":\\0020\"; padding-right: .5ex}\n",
       ".dl-inline>dt:not(:first-of-type) {padding-left: .5ex}\n",
       "</style><dl class=dl-inline><dt>F</dt><dd>330</dd><dt>M</dt><dd>6951</dd><dt>NA's</dt><dd>10</dd></dl>\n"
      ],
      "text/latex": [
       "\\begin{description*}\n",
       "\\item[F] 330\n",
       "\\item[M] 6951\n",
       "\\item[NA's] 10\n",
       "\\end{description*}\n"
      ],
      "text/markdown": [
       "F\n",
       ":   330M\n",
       ":   6951NA's\n",
       ":   10\n",
       "\n"
      ],
      "text/plain": [
       "   F    M NA's \n",
       " 330 6951   10 "
      ]
     },
     "metadata": {},
     "output_type": "display_data"
    }
   ],
   "source": [
    "summary(data$gender)"
   ]
  },
  {
   "cell_type": "code",
   "execution_count": 14,
   "id": "ff2d1ec7",
   "metadata": {
    "vscode": {
     "languageId": "r"
    }
   },
   "outputs": [],
   "source": [
    "# Drop where gender is NA? The observations are too few in number to add as a category\n",
    "data = data %>% drop_na(gender)"
   ]
  },
  {
   "cell_type": "code",
   "execution_count": 15,
   "id": "2223ba42",
   "metadata": {
    "vscode": {
     "languageId": "r"
    }
   },
   "outputs": [],
   "source": [
    "# Age -> use mean/median imputation?\n",
    "data$age[is.na(data$age)] <- median(data$age, na.rm = T)"
   ]
  },
  {
   "cell_type": "markdown",
   "id": "7400910f",
   "metadata": {},
   "source": [
    "> Missing values have been dealt with, but it would have been a good idea to check if the missingness pattern in age was MCAR/MAR/MNAR"
   ]
  },
  {
   "cell_type": "code",
   "execution_count": 16,
   "id": "c8690a1e",
   "metadata": {
    "vscode": {
     "languageId": "r"
    }
   },
   "outputs": [
    {
     "data": {
      "text/html": [
       "<style>\n",
       ".list-inline {list-style: none; margin:0; padding: 0}\n",
       ".list-inline>li {display: inline-block}\n",
       ".list-inline>li:not(:last-child)::after {content: \"\\00b7\"; padding: 0 .5ex}\n",
       "</style>\n",
       "<ol class=list-inline><li>'date'</li><li>'armed'</li><li>'age'</li><li>'gender'</li><li>'race'</li><li>'state'</li><li>'signs_of_mental_illness'</li><li>'flee'</li><li>'body_camera'</li></ol>\n"
      ],
      "text/latex": [
       "\\begin{enumerate*}\n",
       "\\item 'date'\n",
       "\\item 'armed'\n",
       "\\item 'age'\n",
       "\\item 'gender'\n",
       "\\item 'race'\n",
       "\\item 'state'\n",
       "\\item 'signs\\_of\\_mental\\_illness'\n",
       "\\item 'flee'\n",
       "\\item 'body\\_camera'\n",
       "\\end{enumerate*}\n"
      ],
      "text/markdown": [
       "1. 'date'\n",
       "2. 'armed'\n",
       "3. 'age'\n",
       "4. 'gender'\n",
       "5. 'race'\n",
       "6. 'state'\n",
       "7. 'signs_of_mental_illness'\n",
       "8. 'flee'\n",
       "9. 'body_camera'\n",
       "\n",
       "\n"
      ],
      "text/plain": [
       "[1] \"date\"                    \"armed\"                  \n",
       "[3] \"age\"                     \"gender\"                 \n",
       "[5] \"race\"                    \"state\"                  \n",
       "[7] \"signs_of_mental_illness\" \"flee\"                   \n",
       "[9] \"body_camera\"            "
      ]
     },
     "metadata": {},
     "output_type": "display_data"
    }
   ],
   "source": [
    "names(data)"
   ]
  },
  {
   "cell_type": "markdown",
   "id": "55da639d-36c5-4425-a35a-f6b6782231ba",
   "metadata": {},
   "source": [
    "### 3. Evaluation metric & Residual analyses plan"
   ]
  },
  {
   "cell_type": "markdown",
   "id": "9c222233",
   "metadata": {},
   "source": [
    "Since this is logistic regression and we are focused on interpretation, it may make sense to look at pure accuracy after using the model weightages as suggested by Alice, to handle the imbalanced nature of the target. Overall, we can consider the following measures:\n",
    "1. Accuracy\n",
    "2. AIC\n",
    "3. AUROC"
   ]
  },
  {
   "cell_type": "markdown",
   "id": "79b2ba78",
   "metadata": {},
   "source": [
    "We should also check that there isn't high linear dependence between the factors using the VIF. `vif(glm.all)`"
   ]
  },
  {
   "cell_type": "markdown",
   "id": "86c79bbb",
   "metadata": {},
   "source": [
    "After models are fitted, check:\n",
    "1. Histogram of residuals\n",
    "2. Calibration chart\n",
    "3. Inspect largest outliers?"
   ]
  },
  {
   "cell_type": "markdown",
   "id": "9d56eeb6",
   "metadata": {},
   "source": [
    "### 4. Building model to fit data"
   ]
  },
  {
   "cell_type": "code",
   "execution_count": 34,
   "id": "08ed4aa4",
   "metadata": {
    "vscode": {
     "languageId": "r"
    }
   },
   "outputs": [],
   "source": [
    "library(lme4)\n",
    "library(splines)"
   ]
  },
  {
   "cell_type": "code",
   "execution_count": 20,
   "id": "979bc56d",
   "metadata": {
    "vscode": {
     "languageId": "r"
    }
   },
   "outputs": [
    {
     "data": {
      "text/html": [
       "<style>\n",
       ".list-inline {list-style: none; margin:0; padding: 0}\n",
       ".list-inline>li {display: inline-block}\n",
       ".list-inline>li:not(:last-child)::after {content: \"\\00b7\"; padding: 0 .5ex}\n",
       "</style>\n",
       "<ol class=list-inline><li>'date'</li><li>'armed'</li><li>'age'</li><li>'gender'</li><li>'race'</li><li>'state'</li><li>'signs_of_mental_illness'</li><li>'flee'</li><li>'body_camera'</li></ol>\n"
      ],
      "text/latex": [
       "\\begin{enumerate*}\n",
       "\\item 'date'\n",
       "\\item 'armed'\n",
       "\\item 'age'\n",
       "\\item 'gender'\n",
       "\\item 'race'\n",
       "\\item 'state'\n",
       "\\item 'signs\\_of\\_mental\\_illness'\n",
       "\\item 'flee'\n",
       "\\item 'body\\_camera'\n",
       "\\end{enumerate*}\n"
      ],
      "text/markdown": [
       "1. 'date'\n",
       "2. 'armed'\n",
       "3. 'age'\n",
       "4. 'gender'\n",
       "5. 'race'\n",
       "6. 'state'\n",
       "7. 'signs_of_mental_illness'\n",
       "8. 'flee'\n",
       "9. 'body_camera'\n",
       "\n",
       "\n"
      ],
      "text/plain": [
       "[1] \"date\"                    \"armed\"                  \n",
       "[3] \"age\"                     \"gender\"                 \n",
       "[5] \"race\"                    \"state\"                  \n",
       "[7] \"signs_of_mental_illness\" \"flee\"                   \n",
       "[9] \"body_camera\"            "
      ]
     },
     "metadata": {},
     "output_type": "display_data"
    }
   ],
   "source": [
    "names(data)"
   ]
  },
  {
   "cell_type": "code",
   "execution_count": 32,
   "id": "4f6ad7aa",
   "metadata": {
    "vscode": {
     "languageId": "r"
    }
   },
   "outputs": [
    {
     "name": "stderr",
     "output_type": "stream",
     "text": [
      "Warning message in eval(family$initialize, rho):\n",
      "“non-integer #successes in a binomial glm!”\n",
      "Warning message in checkConv(attr(opt, \"derivs\"), opt$par, ctrl = control$checkConv, :\n",
      "“Model is nearly unidentifiable: very large eigenvalue\n",
      " - Rescale variables?”\n",
      "\n",
      "Correlation matrix not shown by default, as p = 16 > 12.\n",
      "Use print(obj, correlation=TRUE)  or\n",
      "    vcov(obj)        if you need it\n",
      "\n",
      "\n"
     ]
    },
    {
     "data": {
      "text/plain": [
       "Generalized linear mixed model fit by maximum likelihood (Laplace\n",
       "  Approximation) [glmerMod]\n",
       " Family: binomial  ( logit )\n",
       "Formula: signs_of_mental_illness ~ armed + age + gender + race + flee +  \n",
       "    body_camera + (1 | state)\n",
       "   Data: data\n",
       "Weights: response_weights\n",
       "\n",
       "     AIC      BIC   logLik deviance df.resid \n",
       "  8810.2   8927.4  -4388.1   8776.2     7264 \n",
       "\n",
       "Scaled residuals: \n",
       "    Min      1Q  Median      3Q     Max \n",
       "-1.6113 -0.6404 -0.4301 -0.2379  7.6918 \n",
       "\n",
       "Random effects:\n",
       " Groups Name        Variance Std.Dev.\n",
       " state  (Intercept) 0.08182  0.286   \n",
       "Number of obs: 7281, groups:  state, 51\n",
       "\n",
       "Fixed effects:\n",
       "                   Estimate Std. Error z value Pr(>|z|)    \n",
       "(Intercept)       -2.712234   0.183277 -14.799  < 2e-16 ***\n",
       "armedknife         0.625585   0.071773   8.716  < 2e-16 ***\n",
       "armedother         0.537561   0.073176   7.346 2.04e-13 ***\n",
       "armedunarmed       0.110753   0.118482   0.935 0.349912    \n",
       "armedundetermined -0.299836   0.191040  -1.569 0.116533    \n",
       "armedvehicle      -1.017097   0.263555  -3.859 0.000114 ***\n",
       "age                0.009488   0.002132   4.451 8.55e-06 ***\n",
       "genderM           -0.535650   0.117665  -4.552 5.31e-06 ***\n",
       "raceH              0.128236   0.102978   1.245 0.213029    \n",
       "raceO              0.136885   0.092394   1.482 0.138463    \n",
       "raceW              0.747842   0.077250   9.681  < 2e-16 ***\n",
       "fleeFoot           0.346950   0.133131   2.606 0.009158 ** \n",
       "fleeMissing        0.563083   0.139573   4.034 5.48e-05 ***\n",
       "fleeNot fleeing    1.276433   0.101094  12.626  < 2e-16 ***\n",
       "fleeOther          0.006471   0.217820   0.030 0.976298    \n",
       "body_cameraTrue    0.376693   0.074498   5.056 4.27e-07 ***\n",
       "---\n",
       "Signif. codes:  0 ‘***’ 0.001 ‘**’ 0.01 ‘*’ 0.05 ‘.’ 0.1 ‘ ’ 1\n",
       "optimizer (Nelder_Mead) convergence code: 0 (OK)\n",
       "Model is nearly unidentifiable: very large eigenvalue\n",
       " - Rescale variables?\n"
      ]
     },
     "metadata": {},
     "output_type": "display_data"
    }
   ],
   "source": [
    "#  1. Run the model selection process on the entire dataset:\n",
    "#     + start with all features we are considering and build a logistic regression model \n",
    "#       (including weights for different classes for outcome, random effects for states, ignoring date etc.)\n",
    "\n",
    "pos_prop = 1575/(1575 + 5706) # proportion of records where the response variable is positive\n",
    "neg_prop = 1 - pos_prop\n",
    "response_weights <- ifelse(data$signs_of_mental_illness == 1, 1/pos_prop, 1/neg_prop)\n",
    "model_overall <- glmer(signs_of_mental_illness ~ armed + age + gender + race + flee + body_camera + (1|state), \n",
    "                    data=data, family=\"binomial\", weights=response_weights)\n",
    "summary(model_overall)"
   ]
  },
  {
   "cell_type": "code",
   "execution_count": 31,
   "id": "49703ee8",
   "metadata": {
    "vscode": {
     "languageId": "r"
    }
   },
   "outputs": [
    {
     "name": "stderr",
     "output_type": "stream",
     "text": [
      "`stat_bin()` using `bins = 30`. Pick better value with `binwidth`.\n",
      "\n"
     ]
    },
    {
     "data": {
      "image/png": "[encoded data removed]",
      "text/plain": [
       "plot without title"
      ]
     },
     "metadata": {
      "image/png": {
       "height": 540,
       "width": 600
      }
     },
     "output_type": "display_data"
    }
   ],
   "source": [
    "ggplot(data=data, aes(x=age)) + geom_histogram(color=\"black\", fill=\"steelblue\", linetype=\"dashed\") + theme_minimal() + xlab(\"age\")"
   ]
  },
  {
   "cell_type": "code",
   "execution_count": 35,
   "id": "86b68cef",
   "metadata": {
    "vscode": {
     "languageId": "r"
    }
   },
   "outputs": [
    {
     "name": "stderr",
     "output_type": "stream",
     "text": [
      "Warning message in eval(family$initialize, rho):\n",
      "“non-integer #successes in a binomial glm!”\n",
      "Warning message in checkConv(attr(opt, \"derivs\"), opt$par, ctrl = control$checkConv, :\n",
      "“Model failed to converge with max|grad| = 0.00380086 (tol = 0.002, component 1)”\n",
      "\n",
      "Correlation matrix not shown by default, as p = 21 > 12.\n",
      "Use print(obj, correlation=TRUE)  or\n",
      "    vcov(obj)        if you need it\n",
      "\n",
      "\n"
     ]
    },
    {
     "data": {
      "text/plain": [
       "Generalized linear mixed model fit by maximum likelihood (Laplace\n",
       "  Approximation) [glmerMod]\n",
       " Family: binomial  ( logit )\n",
       "Formula: \n",
       "signs_of_mental_illness ~ armed + gender + ns(age, knots = knots.age) +  \n",
       "    race + flee + body_camera + (1 | state)\n",
       "   Data: data\n",
       "Weights: response_weights\n",
       "\n",
       "     AIC      BIC   logLik deviance df.resid \n",
       "  8809.8   8961.5  -4382.9   8765.8     7259 \n",
       "\n",
       "Scaled residuals: \n",
       "    Min      1Q  Median      3Q     Max \n",
       "-1.5992 -0.6394 -0.4289 -0.2371  7.7955 \n",
       "\n",
       "Random effects:\n",
       " Groups Name        Variance Std.Dev.\n",
       " state  (Intercept) 0.08254  0.2873  \n",
       "Number of obs: 7281, groups:  state, 51\n",
       "\n",
       "Fixed effects:\n",
       "                             Estimate Std. Error z value Pr(>|z|)    \n",
       "(Intercept)                 -4.467565   0.929335  -4.807 1.53e-06 ***\n",
       "armedknife                   0.633222   0.071958   8.800  < 2e-16 ***\n",
       "armedother                   0.544970   0.073318   7.433 1.06e-13 ***\n",
       "armedunarmed                 0.122937   0.118645   1.036 0.300119    \n",
       "armedundetermined           -0.289047   0.191171  -1.512 0.130539    \n",
       "armedvehicle                -1.017641   0.263797  -3.858 0.000114 ***\n",
       "genderM                     -0.549596   0.117913  -4.661 3.15e-06 ***\n",
       "ns(age, knots = knots.age)1  1.993604   0.858756   2.322 0.020260 *  \n",
       "ns(age, knots = knots.age)2  2.169879   0.946884   2.292 0.021929 *  \n",
       "ns(age, knots = knots.age)3  1.977161   0.909849   2.173 0.029775 *  \n",
       "ns(age, knots = knots.age)4  1.624635   0.548581   2.962 0.003061 ** \n",
       "ns(age, knots = knots.age)5  4.789327   1.916496   2.499 0.012454 *  \n",
       "ns(age, knots = knots.age)6  1.715974   0.546668   3.139 0.001695 ** \n",
       "raceH                        0.135115   0.103137   1.310 0.190181    \n",
       "raceO                        0.138554   0.093100   1.488 0.136691    \n",
       "raceW                        0.757464   0.077460   9.779  < 2e-16 ***\n",
       "fleeFoot                     0.345585   0.133182   2.595 0.009463 ** \n",
       "fleeMissing                  0.557183   0.139701   3.988 6.65e-05 ***\n",
       "fleeNot fleeing              1.275262   0.101171  12.605  < 2e-16 ***\n",
       "fleeOther                    0.007237   0.217832   0.033 0.973499    \n",
       "body_cameraTrue              0.376549   0.074615   5.047 4.50e-07 ***\n",
       "---\n",
       "Signif. codes:  0 ‘***’ 0.001 ‘**’ 0.01 ‘*’ 0.05 ‘.’ 0.1 ‘ ’ 1\n",
       "optimizer (Nelder_Mead) convergence code: 0 (OK)\n",
       "Model failed to converge with max|grad| = 0.00380086 (tol = 0.002, component 1)\n"
      ]
     },
     "metadata": {},
     "output_type": "display_data"
    }
   ],
   "source": [
    "#     + Experiment with splines and interactions\n",
    "\n",
    "# Try spline on age\n",
    "knots.age <- quantile(data$age, c(0.1, 0.3, 0.5, 0.7, 0.9))\n",
    "model_overall_spline <- glmer(signs_of_mental_illness ~ armed + gender + ns(age, knots=knots.age) + race + flee + body_camera + (1|state), \n",
    "                    data=data, family=\"binomial\", weights=response_weights)\n",
    "summary(model_overall_spline)"
   ]
  },
  {
   "cell_type": "markdown",
   "id": "de3a6099",
   "metadata": {},
   "source": [
    "Adding a spline on age doesn't seem to have brought the AIC down by enough, and the added complexity of interpreting the different interval related coefficient seesm to make it not worth the while of fitting the spline. "
   ]
  },
  {
   "cell_type": "code",
   "execution_count": 36,
   "id": "59fa6f3c",
   "metadata": {
    "vscode": {
     "languageId": "r"
    }
   },
   "outputs": [],
   "source": [
    "# Consider interactions\n",
    "model_overall_inter1 <- glmer(signs_of_mental_illness ~ armed + gender + age + race + flee + body_camera + (1|state), \n",
    "                    data=data, family=\"binomial\", weights=response_weights)\n",
    "summary(model_overall_inter1)"
   ]
  },
  {
   "cell_type": "code",
   "execution_count": null,
   "id": "bcdc502d",
   "metadata": {
    "vscode": {
     "languageId": "r"
    }
   },
   "outputs": [],
   "source": [
    "#     + Use the evaluation metrics to settle on a final model that we want to stick with, check VIF"
   ]
  },
  {
   "cell_type": "code",
   "execution_count": null,
   "id": "97018f42",
   "metadata": {
    "vscode": {
     "languageId": "r"
    }
   },
   "outputs": [],
   "source": [
    "#     + Get a sense of goodness of fit and residuals for this overall model (we may not need this, but might as well do it)"
   ]
  },
  {
   "cell_type": "code",
   "execution_count": 18,
   "id": "5ffa8e7e",
   "metadata": {
    "vscode": {
     "languageId": "r"
    }
   },
   "outputs": [],
   "source": [
    "#  2. Once this final model has been decided, split the data into batches by year, and fit the model to each batch individually\n",
    "#     + Compare coefficients of fitted models across batches to interpret how things are changing/staying the same over time\n",
    "#     + Also check goodness of fit and residuals for each batch"
   ]
  },
  {
   "cell_type": "code",
   "execution_count": null,
   "id": "26450407",
   "metadata": {
    "vscode": {
     "languageId": "r"
    }
   },
   "outputs": [],
   "source": []
  }
 ],
 "metadata": {
  "kernelspec": {
   "display_name": "R",
   "language": "R",
   "name": "ir"
  },
  "language_info": {
   "codemirror_mode": "r",
   "file_extension": ".r",
   "mimetype": "text/x-r-source",
   "name": "R",
   "pygments_lexer": "r",
   "version": "3.6.3"
  }
 },
 "nbformat": 4,
 "nbformat_minor": 5
}
