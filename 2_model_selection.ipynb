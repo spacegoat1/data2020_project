{
 "cells": [
  {
   "cell_type": "code",
   "execution_count": 1,
   "id": "aab6f8c7-ec71-4b0d-86df-c1386f2c061f",
   "metadata": {
    "vscode": {
     "languageId": "r"
    }
   },
   "outputs": [
    {
     "name": "stderr",
     "output_type": "stream",
     "text": [
      "── \u001b[1mAttaching packages\u001b[22m ─────────────────────────────────────── tidyverse 1.3.1 ──\n",
      "\n",
      "\u001b[32m✔\u001b[39m \u001b[34mggplot2\u001b[39m 3.3.5     \u001b[32m✔\u001b[39m \u001b[34mpurrr  \u001b[39m 0.3.4\n",
      "\u001b[32m✔\u001b[39m \u001b[34mtibble \u001b[39m 3.1.6     \u001b[32m✔\u001b[39m \u001b[34mdplyr  \u001b[39m 1.0.7\n",
      "\u001b[32m✔\u001b[39m \u001b[34mtidyr  \u001b[39m 1.2.0     \u001b[32m✔\u001b[39m \u001b[34mstringr\u001b[39m 1.4.0\n",
      "\u001b[32m✔\u001b[39m \u001b[34mreadr  \u001b[39m 2.1.2     \u001b[32m✔\u001b[39m \u001b[34mforcats\u001b[39m 0.5.1\n",
      "\n",
      "── \u001b[1mConflicts\u001b[22m ────────────────────────────────────────── tidyverse_conflicts() ──\n",
      "\u001b[31m✖\u001b[39m \u001b[34mdplyr\u001b[39m::\u001b[32mfilter()\u001b[39m masks \u001b[34mstats\u001b[39m::filter()\n",
      "\u001b[31m✖\u001b[39m \u001b[34mdplyr\u001b[39m::\u001b[32mlag()\u001b[39m    masks \u001b[34mstats\u001b[39m::lag()\n",
      "\n",
      "\n",
      "Attaching package: ‘lubridate’\n",
      "\n",
      "\n",
      "The following objects are masked from ‘package:base’:\n",
      "\n",
      "    date, intersect, setdiff, union\n",
      "\n",
      "\n",
      "\n",
      "Attaching package: ‘gridExtra’\n",
      "\n",
      "\n",
      "The following object is masked from ‘package:dplyr’:\n",
      "\n",
      "    combine\n",
      "\n",
      "\n",
      "Registered S3 method overwritten by 'GGally':\n",
      "  method from   \n",
      "  +.gg   ggplot2\n",
      "\n",
      "Loading required package: carData\n",
      "\n",
      "\n",
      "Attaching package: ‘car’\n",
      "\n",
      "\n",
      "The following object is masked from ‘package:dplyr’:\n",
      "\n",
      "    recode\n",
      "\n",
      "\n",
      "The following object is masked from ‘package:purrr’:\n",
      "\n",
      "    some\n",
      "\n",
      "\n",
      "Loading required package: nlme\n",
      "\n",
      "\n",
      "Attaching package: ‘nlme’\n",
      "\n",
      "\n",
      "The following object is masked from ‘package:dplyr’:\n",
      "\n",
      "    collapse\n",
      "\n",
      "\n",
      "This is mgcv 1.8-31. For overview type 'help(\"mgcv-package\")'.\n",
      "\n"
     ]
    }
   ],
   "source": [
    "library(tidyverse)\n",
    "library(naniar)\n",
    "library(visdat)\n",
    "library(ggplot2)\n",
    "library(lubridate)\n",
    "library(gridExtra)\n",
    "library(GGally)\n",
    "library(corrr)\n",
    "library(dplyr)\n",
    "library(car)\n",
    "library(mgcv)\n",
    "library(ggfortify)"
   ]
  },
  {
   "cell_type": "markdown",
   "id": "ddab7f87",
   "metadata": {},
   "source": [
    "### 1. Initial data load and feature subset/tranform etc. "
   ]
  },
  {
   "cell_type": "code",
   "execution_count": 2,
   "id": "4377c249-d930-4c0e-b02d-adc92071f073",
   "metadata": {
    "vscode": {
     "languageId": "r"
    }
   },
   "outputs": [],
   "source": [
    "data = read.csv('data/fatal-police-shootings-data.csv', na.strings=c(\"\",\"NA\"))"
   ]
  },
  {
   "cell_type": "code",
   "execution_count": 3,
   "id": "41e8a224",
   "metadata": {
    "vscode": {
     "languageId": "r"
    }
   },
   "outputs": [
    {
     "data": {
      "text/html": [
       "<style>\n",
       ".list-inline {list-style: none; margin:0; padding: 0}\n",
       ".list-inline>li {display: inline-block}\n",
       ".list-inline>li:not(:last-child)::after {content: \"\\00b7\"; padding: 0 .5ex}\n",
       "</style>\n",
       "<ol class=list-inline><li>7291</li><li>19</li></ol>\n"
      ],
      "text/latex": [
       "\\begin{enumerate*}\n",
       "\\item 7291\n",
       "\\item 19\n",
       "\\end{enumerate*}\n"
      ],
      "text/markdown": [
       "1. 7291\n",
       "2. 19\n",
       "\n",
       "\n"
      ],
      "text/plain": [
       "[1] 7291   19"
      ]
     },
     "metadata": {},
     "output_type": "display_data"
    },
    {
     "data": {
      "text/html": [
       "<style>\n",
       ".list-inline {list-style: none; margin:0; padding: 0}\n",
       ".list-inline>li {display: inline-block}\n",
       ".list-inline>li:not(:last-child)::after {content: \"\\00b7\"; padding: 0 .5ex}\n",
       "</style>\n",
       "<ol class=list-inline><li>'id'</li><li>'name'</li><li>'date'</li><li>'manner_of_death'</li><li>'armed'</li><li>'age'</li><li>'gender'</li><li>'race'</li><li>'city'</li><li>'state'</li><li>'signs_of_mental_illness'</li><li>'threat_level'</li><li>'flee'</li><li>'body_camera'</li><li>'longitude'</li><li>'latitude'</li><li>'is_geocoding_exact'</li><li>'smha_exp_per_capita'</li><li>'smi_prevalance'</li></ol>\n"
      ],
      "text/latex": [
       "\\begin{enumerate*}\n",
       "\\item 'id'\n",
       "\\item 'name'\n",
       "\\item 'date'\n",
       "\\item 'manner\\_of\\_death'\n",
       "\\item 'armed'\n",
       "\\item 'age'\n",
       "\\item 'gender'\n",
       "\\item 'race'\n",
       "\\item 'city'\n",
       "\\item 'state'\n",
       "\\item 'signs\\_of\\_mental\\_illness'\n",
       "\\item 'threat\\_level'\n",
       "\\item 'flee'\n",
       "\\item 'body\\_camera'\n",
       "\\item 'longitude'\n",
       "\\item 'latitude'\n",
       "\\item 'is\\_geocoding\\_exact'\n",
       "\\item 'smha\\_exp\\_per\\_capita'\n",
       "\\item 'smi\\_prevalance'\n",
       "\\end{enumerate*}\n"
      ],
      "text/markdown": [
       "1. 'id'\n",
       "2. 'name'\n",
       "3. 'date'\n",
       "4. 'manner_of_death'\n",
       "5. 'armed'\n",
       "6. 'age'\n",
       "7. 'gender'\n",
       "8. 'race'\n",
       "9. 'city'\n",
       "10. 'state'\n",
       "11. 'signs_of_mental_illness'\n",
       "12. 'threat_level'\n",
       "13. 'flee'\n",
       "14. 'body_camera'\n",
       "15. 'longitude'\n",
       "16. 'latitude'\n",
       "17. 'is_geocoding_exact'\n",
       "18. 'smha_exp_per_capita'\n",
       "19. 'smi_prevalance'\n",
       "\n",
       "\n"
      ],
      "text/plain": [
       " [1] \"id\"                      \"name\"                   \n",
       " [3] \"date\"                    \"manner_of_death\"        \n",
       " [5] \"armed\"                   \"age\"                    \n",
       " [7] \"gender\"                  \"race\"                   \n",
       " [9] \"city\"                    \"state\"                  \n",
       "[11] \"signs_of_mental_illness\" \"threat_level\"           \n",
       "[13] \"flee\"                    \"body_camera\"            \n",
       "[15] \"longitude\"               \"latitude\"               \n",
       "[17] \"is_geocoding_exact\"      \"smha_exp_per_capita\"    \n",
       "[19] \"smi_prevalance\"         "
      ]
     },
     "metadata": {},
     "output_type": "display_data"
    }
   ],
   "source": [
    "dim(data)\n",
    "names(data)"
   ]
  },
  {
   "cell_type": "markdown",
   "id": "7a628b66",
   "metadata": {},
   "source": [
    "#### Drop features as necessary"
   ]
  },
  {
   "cell_type": "code",
   "execution_count": 4,
   "id": "c34da087",
   "metadata": {
    "vscode": {
     "languageId": "r"
    }
   },
   "outputs": [],
   "source": [
    "features_to_keep = c(\"date\",\"armed\",\"age\",\"gender\",\"race\",\"state\",\"flee\",\"body_camera\",\"signs_of_mental_illness\")\n",
    "data = data[, (names(data) %in% features_to_keep)]"
   ]
  },
  {
   "cell_type": "markdown",
   "id": "4b35fa64",
   "metadata": {},
   "source": [
    "#### Convert features to desired datatypes"
   ]
  },
  {
   "cell_type": "code",
   "execution_count": 5,
   "id": "c8674682",
   "metadata": {
    "vscode": {
     "languageId": "r"
    }
   },
   "outputs": [],
   "source": [
    "factor_cols = c(\"armed\", \"gender\", \"race\", \"state\", \"flee\", \"body_camera\", \"signs_of_mental_illness\")\n",
    "numeric_cols = c(\"age\")\n",
    "\n",
    "data <- data %>% \n",
    "    mutate(across(.cols=all_of(factor_cols), .fns = as.factor))\n",
    "data <- data %>% \n",
    "    mutate(across(.cols=all_of(numeric_cols), .fns = as.numeric))\n",
    "data <- data %>% \n",
    "    mutate(across(.cols=\"date\", .fns = as_date))"
   ]
  },
  {
   "cell_type": "markdown",
   "id": "3c32a30d",
   "metadata": {},
   "source": [
    "#### Transform features as required"
   ]
  },
  {
   "cell_type": "code",
   "execution_count": 6,
   "id": "78a1a080",
   "metadata": {
    "vscode": {
     "languageId": "r"
    }
   },
   "outputs": [],
   "source": [
    "# For some reason, this kept throwing an error for me, so I tried another method\n",
    "data = data %>% \n",
    "  mutate(armed = case_when(\n",
    "    armed == \"gun\" ~ \"gun\",\n",
    "    armed == \"knife\" ~ \"knife\",\n",
    "    armed == \"vehicle\" ~ \"vehicle\",\n",
    "    armed == \"unarmed\" ~ \"unarmed\",\n",
    "    armed == \"undetermined\" ~ \"undetermined\",\n",
    "    TRUE ~ \"other\",\n",
    "  )\n",
    ")"
   ]
  },
  {
   "cell_type": "code",
   "execution_count": 7,
   "id": "195201a3",
   "metadata": {
    "vscode": {
     "languageId": "r"
    }
   },
   "outputs": [
    {
     "data": {
      "text/html": [
       "<style>\n",
       ".dl-inline {width: auto; margin:0; padding: 0}\n",
       ".dl-inline>dt, .dl-inline>dd {float: none; width: auto; display: inline-block}\n",
       ".dl-inline>dt::after {content: \":\\0020\"; padding-right: .5ex}\n",
       ".dl-inline>dt:not(:first-of-type) {padding-left: .5ex}\n",
       "</style><dl class=dl-inline><dt>B</dt><dd>1595</dd><dt>H</dt><dd>1089</dd><dt>O</dt><dd>1584</dd><dt>W</dt><dd>3023</dd></dl>\n"
      ],
      "text/latex": [
       "\\begin{description*}\n",
       "\\item[B] 1595\n",
       "\\item[H] 1089\n",
       "\\item[O] 1584\n",
       "\\item[W] 3023\n",
       "\\end{description*}\n"
      ],
      "text/markdown": [
       "B\n",
       ":   1595H\n",
       ":   1089O\n",
       ":   1584W\n",
       ":   3023\n",
       "\n"
      ],
      "text/plain": [
       "   B    H    O    W \n",
       "1595 1089 1584 3023 "
      ]
     },
     "metadata": {},
     "output_type": "display_data"
    }
   ],
   "source": [
    "# Race -> Combine A/N/O/NA under O?\n",
    "data = data %>% \n",
    "  mutate(race = case_when(\n",
    "    race == \"W\" ~ \"W\",\n",
    "    race == \"B\" ~ \"B\",\n",
    "    race == \"H\" ~ \"H\",\n",
    "    TRUE ~ \"O\",\n",
    "  )\n",
    ")\n",
    "data$race = as.factor(data$race)\n",
    "summary(data$race)"
   ]
  },
  {
   "cell_type": "code",
   "execution_count": 8,
   "id": "45512ca6",
   "metadata": {
    "vscode": {
     "languageId": "r"
    }
   },
   "outputs": [
    {
     "data": {
      "text/html": [
       "<style>\n",
       ".dl-inline {width: auto; margin:0; padding: 0}\n",
       ".dl-inline>dt, .dl-inline>dd {float: none; width: auto; display: inline-block}\n",
       ".dl-inline>dt::after {content: \":\\0020\"; padding-right: .5ex}\n",
       ".dl-inline>dt:not(:first-of-type) {padding-left: .5ex}\n",
       "</style><dl class=dl-inline><dt>Car</dt><dd>1183</dd><dt>Foot</dt><dd>943</dd><dt>Missing</dt><dd>666</dd><dt>Not fleeing</dt><dd>4232</dd><dt>Other</dt><dd>267</dd></dl>\n"
      ],
      "text/latex": [
       "\\begin{description*}\n",
       "\\item[Car] 1183\n",
       "\\item[Foot] 943\n",
       "\\item[Missing] 666\n",
       "\\item[Not fleeing] 4232\n",
       "\\item[Other] 267\n",
       "\\end{description*}\n"
      ],
      "text/markdown": [
       "Car\n",
       ":   1183Foot\n",
       ":   943Missing\n",
       ":   666Not fleeing\n",
       ":   4232Other\n",
       ":   267\n",
       "\n"
      ],
      "text/plain": [
       "        Car        Foot     Missing Not fleeing       Other \n",
       "       1183         943         666        4232         267 "
      ]
     },
     "metadata": {},
     "output_type": "display_data"
    }
   ],
   "source": [
    "# Fleeing -> convert NA to 'Missing'\n",
    "data = data %>% \n",
    "  mutate(flee = case_when(\n",
    "    flee == \"Car\" ~ \"Car\",\n",
    "    flee == \"Foot\" ~ \"Foot\",\n",
    "    flee == \"Not fleeing\" ~ \"Not fleeing\",\n",
    "    flee == \"Other\" ~ \"Other\",\n",
    "    TRUE ~ \"Missing\",\n",
    "  )\n",
    ")\n",
    "data$flee = as.factor(data$flee)\n",
    "summary(data$flee)"
   ]
  },
  {
   "cell_type": "markdown",
   "id": "03015ae6-a36c-440d-a909-8b30960cb8ca",
   "metadata": {},
   "source": [
    "### 2. Dealing with missing values"
   ]
  },
  {
   "cell_type": "markdown",
   "id": "92d9a2a8-b59f-41a8-bc08-949786219ff2",
   "metadata": {},
   "source": [
    "Check missing data frequency for each column"
   ]
  },
  {
   "cell_type": "code",
   "execution_count": 9,
   "id": "1e465b1f",
   "metadata": {
    "vscode": {
     "languageId": "r"
    }
   },
   "outputs": [
    {
     "data": {
      "text/html": [
       "<table class=\"dataframe\">\n",
       "<caption>A data.frame: 9 × 1</caption>\n",
       "<thead>\n",
       "\t<tr><th></th><th scope=col>(colMeans(is.na(data))) * 100</th></tr>\n",
       "\t<tr><th></th><th scope=col>&lt;dbl&gt;</th></tr>\n",
       "</thead>\n",
       "<tbody>\n",
       "\t<tr><th scope=row>date</th><td>0.0000000</td></tr>\n",
       "\t<tr><th scope=row>armed</th><td>0.0000000</td></tr>\n",
       "\t<tr><th scope=row>age</th><td>5.7742422</td></tr>\n",
       "\t<tr><th scope=row>gender</th><td>0.1371554</td></tr>\n",
       "\t<tr><th scope=row>race</th><td>0.0000000</td></tr>\n",
       "\t<tr><th scope=row>state</th><td>0.0000000</td></tr>\n",
       "\t<tr><th scope=row>signs_of_mental_illness</th><td>0.0000000</td></tr>\n",
       "\t<tr><th scope=row>flee</th><td>0.0000000</td></tr>\n",
       "\t<tr><th scope=row>body_camera</th><td>0.0000000</td></tr>\n",
       "</tbody>\n",
       "</table>\n"
      ],
      "text/latex": [
       "A data.frame: 9 × 1\n",
       "\\begin{tabular}{r|l}\n",
       "  & (colMeans(is.na(data))) * 100\\\\\n",
       "  & <dbl>\\\\\n",
       "\\hline\n",
       "\tdate & 0.0000000\\\\\n",
       "\tarmed & 0.0000000\\\\\n",
       "\tage & 5.7742422\\\\\n",
       "\tgender & 0.1371554\\\\\n",
       "\trace & 0.0000000\\\\\n",
       "\tstate & 0.0000000\\\\\n",
       "\tsigns\\_of\\_mental\\_illness & 0.0000000\\\\\n",
       "\tflee & 0.0000000\\\\\n",
       "\tbody\\_camera & 0.0000000\\\\\n",
       "\\end{tabular}\n"
      ],
      "text/markdown": [
       "\n",
       "A data.frame: 9 × 1\n",
       "\n",
       "| <!--/--> | (colMeans(is.na(data))) * 100 &lt;dbl&gt; |\n",
       "|---|---|\n",
       "| date | 0.0000000 |\n",
       "| armed | 0.0000000 |\n",
       "| age | 5.7742422 |\n",
       "| gender | 0.1371554 |\n",
       "| race | 0.0000000 |\n",
       "| state | 0.0000000 |\n",
       "| signs_of_mental_illness | 0.0000000 |\n",
       "| flee | 0.0000000 |\n",
       "| body_camera | 0.0000000 |\n",
       "\n"
      ],
      "text/plain": [
       "                        (colMeans(is.na(data))) * 100\n",
       "date                    0.0000000                    \n",
       "armed                   0.0000000                    \n",
       "age                     5.7742422                    \n",
       "gender                  0.1371554                    \n",
       "race                    0.0000000                    \n",
       "state                   0.0000000                    \n",
       "signs_of_mental_illness 0.0000000                    \n",
       "flee                    0.0000000                    \n",
       "body_camera             0.0000000                    "
      ]
     },
     "metadata": {},
     "output_type": "display_data"
    }
   ],
   "source": [
    "# Percent missing values per column\n",
    "as.data.frame((colMeans(is.na(data)))*100)"
   ]
  },
  {
   "cell_type": "markdown",
   "id": "ff719b79-51a5-4702-95f7-8d82b6574524",
   "metadata": {},
   "source": [
    "Check patterns in data missingness"
   ]
  },
  {
   "cell_type": "code",
   "execution_count": 10,
   "id": "5fab5dc4",
   "metadata": {
    "vscode": {
     "languageId": "r"
    }
   },
   "outputs": [
    {
     "name": "stderr",
     "output_type": "stream",
     "text": [
      "Warning message:\n",
      "“`gather_()` was deprecated in tidyr 1.2.0.\n",
      "Please use `gather()` instead.\n",
      "\u001b[90mThis warning is displayed once every 8 hours.\u001b[39m\n",
      "\u001b[90mCall `lifecycle::last_lifecycle_warnings()` to see where this warning was generated.\u001b[39m”\n"
     ]
    },
    {
     "data": {
      "image/png": "[encoded data removed]",
      "text/plain": [
       "plot without title"
      ]
     },
     "metadata": {
      "image/png": {
       "height": 540,
       "width": 600
      }
     },
     "output_type": "display_data"
    }
   ],
   "source": [
    "options(repr.plot.width=10, repr.plot.height=9)\n",
    "vis_miss(data)"
   ]
  },
  {
   "cell_type": "code",
   "execution_count": 98,
   "id": "23696d22",
   "metadata": {
    "vscode": {
     "languageId": "r"
    }
   },
   "outputs": [
    {
     "data": {
      "image/png": "[encoded data removed]",
      "text/plain": [
       "plot without title"
      ]
     },
     "metadata": {
      "image/png": {
       "height": 540,
       "width": 600
      }
     },
     "output_type": "display_data"
    }
   ],
   "source": [
    "vis_miss(data, cluster = TRUE, sort_miss = TRUE)"
   ]
  },
  {
   "cell_type": "code",
   "execution_count": 11,
   "id": "245ea751",
   "metadata": {
    "vscode": {
     "languageId": "r"
    }
   },
   "outputs": [
    {
     "data": {
      "text/html": [
       "<style>\n",
       ".dl-inline {width: auto; margin:0; padding: 0}\n",
       ".dl-inline>dt, .dl-inline>dd {float: none; width: auto; display: inline-block}\n",
       ".dl-inline>dt::after {content: \":\\0020\"; padding-right: .5ex}\n",
       ".dl-inline>dt:not(:first-of-type) {padding-left: .5ex}\n",
       "</style><dl class=dl-inline><dt>F</dt><dd>330</dd><dt>M</dt><dd>6951</dd><dt>NA's</dt><dd>10</dd></dl>\n"
      ],
      "text/latex": [
       "\\begin{description*}\n",
       "\\item[F] 330\n",
       "\\item[M] 6951\n",
       "\\item[NA's] 10\n",
       "\\end{description*}\n"
      ],
      "text/markdown": [
       "F\n",
       ":   330M\n",
       ":   6951NA's\n",
       ":   10\n",
       "\n"
      ],
      "text/plain": [
       "   F    M NA's \n",
       " 330 6951   10 "
      ]
     },
     "metadata": {},
     "output_type": "display_data"
    }
   ],
   "source": [
    "summary(data$gender)"
   ]
  },
  {
   "cell_type": "code",
   "execution_count": 12,
   "id": "ff2d1ec7",
   "metadata": {
    "vscode": {
     "languageId": "r"
    }
   },
   "outputs": [],
   "source": [
    "# Drop where gender is NA? The observations are too few in number to add as a category\n",
    "data = data %>% drop_na(gender)"
   ]
  },
  {
   "cell_type": "code",
   "execution_count": 13,
   "id": "2223ba42",
   "metadata": {
    "vscode": {
     "languageId": "r"
    }
   },
   "outputs": [],
   "source": [
    "# Age -> use mean/median imputation?\n",
    "data$age[is.na(data$age)] <- median(data$age, na.rm = T)"
   ]
  },
  {
   "cell_type": "markdown",
   "id": "7400910f",
   "metadata": {},
   "source": [
    "> Missing values have been dealt with, but it would have been a good idea to check if the missingness pattern in age was MCAR/MAR/MNAR"
   ]
  },
  {
   "cell_type": "code",
   "execution_count": 14,
   "id": "c8690a1e",
   "metadata": {
    "vscode": {
     "languageId": "r"
    }
   },
   "outputs": [
    {
     "data": {
      "text/html": [
       "<style>\n",
       ".list-inline {list-style: none; margin:0; padding: 0}\n",
       ".list-inline>li {display: inline-block}\n",
       ".list-inline>li:not(:last-child)::after {content: \"\\00b7\"; padding: 0 .5ex}\n",
       "</style>\n",
       "<ol class=list-inline><li>'date'</li><li>'armed'</li><li>'age'</li><li>'gender'</li><li>'race'</li><li>'state'</li><li>'signs_of_mental_illness'</li><li>'flee'</li><li>'body_camera'</li></ol>\n"
      ],
      "text/latex": [
       "\\begin{enumerate*}\n",
       "\\item 'date'\n",
       "\\item 'armed'\n",
       "\\item 'age'\n",
       "\\item 'gender'\n",
       "\\item 'race'\n",
       "\\item 'state'\n",
       "\\item 'signs\\_of\\_mental\\_illness'\n",
       "\\item 'flee'\n",
       "\\item 'body\\_camera'\n",
       "\\end{enumerate*}\n"
      ],
      "text/markdown": [
       "1. 'date'\n",
       "2. 'armed'\n",
       "3. 'age'\n",
       "4. 'gender'\n",
       "5. 'race'\n",
       "6. 'state'\n",
       "7. 'signs_of_mental_illness'\n",
       "8. 'flee'\n",
       "9. 'body_camera'\n",
       "\n",
       "\n"
      ],
      "text/plain": [
       "[1] \"date\"                    \"armed\"                  \n",
       "[3] \"age\"                     \"gender\"                 \n",
       "[5] \"race\"                    \"state\"                  \n",
       "[7] \"signs_of_mental_illness\" \"flee\"                   \n",
       "[9] \"body_camera\"            "
      ]
     },
     "metadata": {},
     "output_type": "display_data"
    }
   ],
   "source": [
    "names(data)"
   ]
  },
  {
   "cell_type": "markdown",
   "id": "55da639d-36c5-4425-a35a-f6b6782231ba",
   "metadata": {},
   "source": [
    "### 3. Evaluation metric & Residual analyses plan"
   ]
  },
  {
   "cell_type": "markdown",
   "id": "9c222233",
   "metadata": {},
   "source": [
    "Since this is logistic regression and we are focused on interpretation, it may make sense to look at pure accuracy after using the model weightages as suggested by Alice, to handle the imbalanced nature of the target. Overall, we can consider the following measures:\n",
    "1. Accuracy\n",
    "2. AIC\n",
    "3. AUROC"
   ]
  },
  {
   "cell_type": "markdown",
   "id": "79b2ba78",
   "metadata": {},
   "source": [
    "We should also check that there isn't high linear dependence between the factors using the VIF. `vif(glm.all)`"
   ]
  },
  {
   "cell_type": "markdown",
   "id": "86c79bbb",
   "metadata": {},
   "source": [
    "After models are fitted, check:\n",
    "1. Histogram of residuals\n",
    "2. Calibration chart\n",
    "3. Inspect largest outliers?"
   ]
  },
  {
   "cell_type": "markdown",
   "id": "9d56eeb6",
   "metadata": {},
   "source": [
    "### 4. Building model to fit data"
   ]
  },
  {
   "cell_type": "code",
   "execution_count": 15,
   "id": "08ed4aa4",
   "metadata": {
    "vscode": {
     "languageId": "r"
    }
   },
   "outputs": [
    {
     "name": "stderr",
     "output_type": "stream",
     "text": [
      "Loading required package: Matrix\n",
      "\n",
      "\n",
      "Attaching package: ‘Matrix’\n",
      "\n",
      "\n",
      "The following objects are masked from ‘package:tidyr’:\n",
      "\n",
      "    expand, pack, unpack\n",
      "\n",
      "\n",
      "\n",
      "Attaching package: ‘lme4’\n",
      "\n",
      "\n",
      "The following object is masked from ‘package:nlme’:\n",
      "\n",
      "    lmList\n",
      "\n",
      "\n"
     ]
    }
   ],
   "source": [
    "library(lme4)\n",
    "library(splines)"
   ]
  },
  {
   "cell_type": "code",
   "execution_count": 16,
   "id": "979bc56d",
   "metadata": {
    "vscode": {
     "languageId": "r"
    }
   },
   "outputs": [
    {
     "data": {
      "text/html": [
       "<style>\n",
       ".list-inline {list-style: none; margin:0; padding: 0}\n",
       ".list-inline>li {display: inline-block}\n",
       ".list-inline>li:not(:last-child)::after {content: \"\\00b7\"; padding: 0 .5ex}\n",
       "</style>\n",
       "<ol class=list-inline><li>'date'</li><li>'armed'</li><li>'age'</li><li>'gender'</li><li>'race'</li><li>'state'</li><li>'signs_of_mental_illness'</li><li>'flee'</li><li>'body_camera'</li></ol>\n"
      ],
      "text/latex": [
       "\\begin{enumerate*}\n",
       "\\item 'date'\n",
       "\\item 'armed'\n",
       "\\item 'age'\n",
       "\\item 'gender'\n",
       "\\item 'race'\n",
       "\\item 'state'\n",
       "\\item 'signs\\_of\\_mental\\_illness'\n",
       "\\item 'flee'\n",
       "\\item 'body\\_camera'\n",
       "\\end{enumerate*}\n"
      ],
      "text/markdown": [
       "1. 'date'\n",
       "2. 'armed'\n",
       "3. 'age'\n",
       "4. 'gender'\n",
       "5. 'race'\n",
       "6. 'state'\n",
       "7. 'signs_of_mental_illness'\n",
       "8. 'flee'\n",
       "9. 'body_camera'\n",
       "\n",
       "\n"
      ],
      "text/plain": [
       "[1] \"date\"                    \"armed\"                  \n",
       "[3] \"age\"                     \"gender\"                 \n",
       "[5] \"race\"                    \"state\"                  \n",
       "[7] \"signs_of_mental_illness\" \"flee\"                   \n",
       "[9] \"body_camera\"            "
      ]
     },
     "metadata": {},
     "output_type": "display_data"
    }
   ],
   "source": [
    "names(data)"
   ]
  },
  {
   "cell_type": "code",
   "execution_count": 17,
   "id": "4f6ad7aa",
   "metadata": {
    "vscode": {
     "languageId": "r"
    }
   },
   "outputs": [],
   "source": [
    "#  1. Run the model selection process on the entire dataset:\n",
    "#     + start with all features we are considering and build a logistic regression model \n",
    "#       (including weights for different classes for outcome, random effects for states, ignoring date etc.)\n",
    "\n",
    "pos_prop = 1575/(1575 + 5706) # proportion of records where the response variable is positive\n",
    "neg_prop = 1 - pos_prop\n",
    "response_weights <- ifelse(data$signs_of_mental_illness == 'True', 1/pos_prop, 1/neg_prop)"
   ]
  },
  {
   "cell_type": "code",
   "execution_count": 18,
   "id": "2bf2781e",
   "metadata": {
    "vscode": {
     "languageId": "r"
    }
   },
   "outputs": [
    {
     "name": "stderr",
     "output_type": "stream",
     "text": [
      "Warning message in eval(family$initialize, rho):\n",
      "“non-integer #successes in a binomial glm!”\n",
      "Warning message in checkConv(attr(opt, \"derivs\"), opt$par, ctrl = control$checkConv, :\n",
      "“Model is nearly unidentifiable: very large eigenvalue\n",
      " - Rescale variables?”\n",
      "\n",
      "Correlation matrix not shown by default, as p = 16 > 12.\n",
      "Use print(obj, correlation=TRUE)  or\n",
      "    vcov(obj)        if you need it\n",
      "\n",
      "\n"
     ]
    },
    {
     "data": {
      "text/plain": [
       "Generalized linear mixed model fit by maximum likelihood (Laplace\n",
       "  Approximation) [glmerMod]\n",
       " Family: binomial  ( logit )\n",
       "Formula: signs_of_mental_illness ~ armed + age + gender + race + flee +  \n",
       "    body_camera + (1 | state)\n",
       "   Data: data\n",
       "Weights: response_weights\n",
       "\n",
       "     AIC      BIC   logLik deviance df.resid \n",
       " 17975.7  18092.9  -8970.9  17941.7     7264 \n",
       "\n",
       "Scaled residuals: \n",
       "    Min      1Q  Median      3Q     Max \n",
       "-3.0932 -1.2042 -0.8086 -0.4396  7.7365 \n",
       "\n",
       "Random effects:\n",
       " Groups Name        Variance Std.Dev.\n",
       " state  (Intercept) 0.1303   0.3609  \n",
       "Number of obs: 7281, groups:  state, 51\n",
       "\n",
       "Fixed effects:\n",
       "                   Estimate Std. Error z value Pr(>|z|)    \n",
       "(Intercept)       -1.390851   0.130910 -10.625  < 2e-16 ***\n",
       "armedknife         0.641243   0.051171  12.531  < 2e-16 ***\n",
       "armedother         0.519466   0.050575  10.271  < 2e-16 ***\n",
       "armedunarmed       0.110407   0.078325   1.410   0.1587    \n",
       "armedundetermined -0.288672   0.117736  -2.452   0.0142 *  \n",
       "armedvehicle      -1.053089   0.153687  -6.852 7.27e-12 ***\n",
       "age                0.009940   0.001462   6.798 1.06e-11 ***\n",
       "genderM           -0.572648   0.085782  -6.676 2.46e-11 ***\n",
       "raceH              0.161392   0.067559   2.389   0.0169 *  \n",
       "raceO              0.136582   0.060416   2.261   0.0238 *  \n",
       "raceW              0.760768   0.051244  14.846  < 2e-16 ***\n",
       "fleeFoot           0.324410   0.080943   4.008 6.13e-05 ***\n",
       "fleeMissing        0.540870   0.086438   6.257 3.92e-10 ***\n",
       "fleeNot fleeing    1.255984   0.061756  20.338  < 2e-16 ***\n",
       "fleeOther         -0.013478   0.129814  -0.104   0.9173    \n",
       "body_cameraTrue    0.340131   0.051715   6.577 4.80e-11 ***\n",
       "---\n",
       "Signif. codes:  0 ‘***’ 0.001 ‘**’ 0.01 ‘*’ 0.05 ‘.’ 0.1 ‘ ’ 1\n",
       "optimizer (Nelder_Mead) convergence code: 0 (OK)\n",
       "Model is nearly unidentifiable: very large eigenvalue\n",
       " - Rescale variables?\n"
      ]
     },
     "metadata": {},
     "output_type": "display_data"
    }
   ],
   "source": [
    "model_overall <- glmer(signs_of_mental_illness ~ armed + age + gender + race + flee + body_camera + (1|state), \n",
    "                    data=data, family=\"binomial\", weights=response_weights)\n",
    "summary(model_overall)"
   ]
  },
  {
   "cell_type": "code",
   "execution_count": 19,
   "id": "49703ee8",
   "metadata": {
    "vscode": {
     "languageId": "r"
    }
   },
   "outputs": [
    {
     "name": "stderr",
     "output_type": "stream",
     "text": [
      "`stat_bin()` using `bins = 30`. Pick better value with `binwidth`.\n",
      "\n"
     ]
    },
    {
     "data": {
      "image/png": "[encoded data removed]",
      "text/plain": [
       "plot without title"
      ]
     },
     "metadata": {
      "image/png": {
       "height": 540,
       "width": 600
      }
     },
     "output_type": "display_data"
    }
   ],
   "source": [
    "ggplot(data=data, aes(x=age)) + geom_histogram(color=\"black\", fill=\"steelblue\", linetype=\"dashed\") + theme_minimal() + xlab(\"age\")"
   ]
  },
  {
   "cell_type": "code",
   "execution_count": 20,
   "id": "86b68cef",
   "metadata": {
    "vscode": {
     "languageId": "r"
    }
   },
   "outputs": [
    {
     "name": "stderr",
     "output_type": "stream",
     "text": [
      "Warning message in eval(family$initialize, rho):\n",
      "“non-integer #successes in a binomial glm!”\n",
      "\n",
      "Correlation matrix not shown by default, as p = 21 > 12.\n",
      "Use print(obj, correlation=TRUE)  or\n",
      "    vcov(obj)        if you need it\n",
      "\n",
      "\n"
     ]
    },
    {
     "data": {
      "text/plain": [
       "Generalized linear mixed model fit by maximum likelihood (Laplace\n",
       "  Approximation) [glmerMod]\n",
       " Family: binomial  ( logit )\n",
       "Formula: \n",
       "signs_of_mental_illness ~ armed + gender + ns(age, knots = knots.age) +  \n",
       "    race + flee + body_camera + (1 | state)\n",
       "   Data: data\n",
       "Weights: response_weights\n",
       "\n",
       "     AIC      BIC   logLik deviance df.resid \n",
       " 17964.2  18115.9  -8960.1  17920.2     7259 \n",
       "\n",
       "Scaled residuals: \n",
       "    Min      1Q  Median      3Q     Max \n",
       "-3.0451 -1.2039 -0.8087 -0.4375  7.7032 \n",
       "\n",
       "Random effects:\n",
       " Groups Name        Variance Std.Dev.\n",
       " state  (Intercept) 0.1318   0.363   \n",
       "Number of obs: 7281, groups:  state, 51\n",
       "\n",
       "Fixed effects:\n",
       "                            Estimate Std. Error z value Pr(>|z|)    \n",
       "(Intercept)                 -3.07714    0.60466  -5.089 3.60e-07 ***\n",
       "armedknife                   0.64550    0.05125  12.596  < 2e-16 ***\n",
       "armedother                   0.52821    0.05068  10.422  < 2e-16 ***\n",
       "armedunarmed                 0.12031    0.07847   1.533 0.125216    \n",
       "armedundetermined           -0.28280    0.11783  -2.400 0.016391 *  \n",
       "armedvehicle                -1.05620    0.15400  -6.858 6.97e-12 ***\n",
       "genderM                     -0.58727    0.08586  -6.840 7.92e-12 ***\n",
       "ns(age, knots = knots.age)1  1.97889    0.55603   3.559 0.000372 ***\n",
       "ns(age, knots = knots.age)2  2.10748    0.61533   3.425 0.000615 ***\n",
       "ns(age, knots = knots.age)3  1.97724    0.59013   3.351 0.000807 ***\n",
       "ns(age, knots = knots.age)4  1.54846    0.36071   4.293 1.76e-05 ***\n",
       "ns(age, knots = knots.age)5  4.67533    1.24835   3.745 0.000180 ***\n",
       "ns(age, knots = knots.age)6  1.89553    0.38521   4.921 8.62e-07 ***\n",
       "raceH                        0.16829    0.06768   2.486 0.012901 *  \n",
       "raceO                        0.13902    0.06085   2.285 0.022340 *  \n",
       "raceW                        0.76911    0.05139  14.966  < 2e-16 ***\n",
       "fleeFoot                     0.32145    0.08101   3.968 7.24e-05 ***\n",
       "fleeMissing                  0.53155    0.08658   6.139 8.29e-10 ***\n",
       "fleeNot fleeing              1.25171    0.06183  20.243  < 2e-16 ***\n",
       "fleeOther                   -0.01839    0.12988  -0.142 0.887372    \n",
       "body_cameraTrue              0.34333    0.05181   6.626 3.44e-11 ***\n",
       "---\n",
       "Signif. codes:  0 ‘***’ 0.001 ‘**’ 0.01 ‘*’ 0.05 ‘.’ 0.1 ‘ ’ 1"
      ]
     },
     "metadata": {},
     "output_type": "display_data"
    }
   ],
   "source": [
    "#     + Experiment with splines and interactions\n",
    "\n",
    "# Try spline on age\n",
    "knots.age <- quantile(data$age, c(0.1, 0.3, 0.5, 0.7, 0.9))\n",
    "model_overall_spline <- glmer(signs_of_mental_illness ~ armed + gender + ns(age, knots=knots.age) + race + flee + body_camera + (1|state), \n",
    "                    data=data, family=\"binomial\", weights=response_weights)\n",
    "summary(model_overall_spline)"
   ]
  },
  {
   "cell_type": "markdown",
   "id": "de3a6099",
   "metadata": {},
   "source": [
    "Adding a spline on age doesn't seem to have brought the AIC down by enough, and the added complexity of interpreting the different interval related coefficient seesm to make it not worth the while of fitting the spline. "
   ]
  },
  {
   "cell_type": "code",
   "execution_count": 21,
   "id": "59fa6f3c",
   "metadata": {
    "vscode": {
     "languageId": "r"
    }
   },
   "outputs": [
    {
     "name": "stderr",
     "output_type": "stream",
     "text": [
      "Warning message in eval(family$initialize, rho):\n",
      "“non-integer #successes in a binomial glm!”\n",
      "Warning message in checkConv(attr(opt, \"derivs\"), opt$par, ctrl = control$checkConv, :\n",
      "“Model failed to converge with max|grad| = 0.00565667 (tol = 0.002, component 1)”\n",
      "Warning message in checkConv(attr(opt, \"derivs\"), opt$par, ctrl = control$checkConv, :\n",
      "“Model is nearly unidentifiable: very large eigenvalue\n",
      " - Rescale variables?”\n",
      "\n",
      "Correlation matrix not shown by default, as p = 19 > 12.\n",
      "Use print(obj, correlation=TRUE)  or\n",
      "    vcov(obj)        if you need it\n",
      "\n",
      "\n"
     ]
    },
    {
     "data": {
      "text/plain": [
       "Generalized linear mixed model fit by maximum likelihood (Laplace\n",
       "  Approximation) [glmerMod]\n",
       " Family: binomial  ( logit )\n",
       "Formula: signs_of_mental_illness ~ armed + gender + age + race + flee +  \n",
       "    body_camera + gender * race + (1 | state)\n",
       "   Data: data\n",
       "Weights: response_weights\n",
       "\n",
       "     AIC      BIC   logLik deviance df.resid \n",
       " 17976.5  18114.3  -8968.2  17936.5     7261 \n",
       "\n",
       "Scaled residuals: \n",
       "    Min      1Q  Median      3Q     Max \n",
       "-2.8937 -1.2055 -0.8108 -0.4396  7.7437 \n",
       "\n",
       "Random effects:\n",
       " Groups Name        Variance Std.Dev.\n",
       " state  (Intercept) 0.1298   0.3603  \n",
       "Number of obs: 7281, groups:  state, 51\n",
       "\n",
       "Fixed effects:\n",
       "                   Estimate Std. Error z value Pr(>|z|)    \n",
       "(Intercept)       -1.225729   0.228453  -5.365 8.08e-08 ***\n",
       "armedknife         0.638885   0.051213  12.475  < 2e-16 ***\n",
       "armedother         0.520592   0.050588  10.291  < 2e-16 ***\n",
       "armedunarmed       0.108497   0.078358   1.385 0.166166    \n",
       "armedundetermined -0.284751   0.117746  -2.418 0.015591 *  \n",
       "armedvehicle      -1.048349   0.153836  -6.815 9.44e-12 ***\n",
       "genderM           -0.745384   0.213866  -3.485 0.000492 ***\n",
       "age                0.009958   0.001463   6.806 1.00e-11 ***\n",
       "raceH              0.091997   0.337634   0.272 0.785257    \n",
       "raceO              0.237049   0.281014   0.844 0.398921    \n",
       "raceW              0.431135   0.236630   1.822 0.068458 .  \n",
       "fleeFoot           0.324498   0.081055   4.003 6.24e-05 ***\n",
       "fleeMissing        0.542917   0.086493   6.277 3.45e-10 ***\n",
       "fleeNot fleeing    1.256247   0.061814  20.323  < 2e-16 ***\n",
       "fleeOther         -0.009102   0.129826  -0.070 0.944107    \n",
       "body_cameraTrue    0.339887   0.051744   6.569 5.08e-11 ***\n",
       "genderM:raceH      0.072242   0.342498   0.211 0.832945    \n",
       "genderM:raceO     -0.107397   0.286968  -0.374 0.708222    \n",
       "genderM:raceW      0.346035   0.241647   1.432 0.152148    \n",
       "---\n",
       "Signif. codes:  0 ‘***’ 0.001 ‘**’ 0.01 ‘*’ 0.05 ‘.’ 0.1 ‘ ’ 1\n",
       "optimizer (Nelder_Mead) convergence code: 0 (OK)\n",
       "Model failed to converge with max|grad| = 0.00565667 (tol = 0.002, component 1)\n",
       "Model is nearly unidentifiable: very large eigenvalue\n",
       " - Rescale variables?\n"
      ]
     },
     "metadata": {},
     "output_type": "display_data"
    },
    {
     "name": "stderr",
     "output_type": "stream",
     "text": [
      "Warning message in eval(family$initialize, rho):\n",
      "“non-integer #successes in a binomial glm!”\n",
      "Warning message in checkConv(attr(opt, \"derivs\"), opt$par, ctrl = control$checkConv, :\n",
      "“Model failed to converge with max|grad| = 0.0068239 (tol = 0.002, component 1)”\n",
      "Warning message in checkConv(attr(opt, \"derivs\"), opt$par, ctrl = control$checkConv, :\n",
      "“Model is nearly unidentifiable: very large eigenvalue\n",
      " - Rescale variables?”\n",
      "\n",
      "Correlation matrix not shown by default, as p = 19 > 12.\n",
      "Use print(obj, correlation=TRUE)  or\n",
      "    vcov(obj)        if you need it\n",
      "\n",
      "\n"
     ]
    },
    {
     "data": {
      "text/plain": [
       "Generalized linear mixed model fit by maximum likelihood (Laplace\n",
       "  Approximation) [glmerMod]\n",
       " Family: binomial  ( logit )\n",
       "Formula: signs_of_mental_illness ~ armed + gender + age + race + flee +  \n",
       "    body_camera + age * race + (1 | state)\n",
       "   Data: data\n",
       "Weights: response_weights\n",
       "\n",
       "     AIC      BIC   logLik deviance df.resid \n",
       " 17971.9  18109.8  -8966.0  17931.9     7261 \n",
       "\n",
       "Scaled residuals: \n",
       "    Min      1Q  Median      3Q     Max \n",
       "-3.0230 -1.2063 -0.8088 -0.4360  7.8028 \n",
       "\n",
       "Random effects:\n",
       " Groups Name        Variance Std.Dev.\n",
       " state  (Intercept) 0.1318   0.3631  \n",
       "Number of obs: 7281, groups:  state, 51\n",
       "\n",
       "Fixed effects:\n",
       "                   Estimate Std. Error z value Pr(>|z|)    \n",
       "(Intercept)       -1.468366   0.171853  -8.544  < 2e-16 ***\n",
       "armedknife         0.636779   0.051313  12.410  < 2e-16 ***\n",
       "armedother         0.513620   0.050729  10.125  < 2e-16 ***\n",
       "armedunarmed       0.103333   0.078502   1.316 0.188068    \n",
       "armedundetermined -0.285374   0.117885  -2.421 0.015487 *  \n",
       "armedvehicle      -1.058374   0.153907  -6.877 6.13e-12 ***\n",
       "genderM           -0.577399   0.085830  -6.727 1.73e-11 ***\n",
       "age                0.012252   0.003587   3.416 0.000636 ***\n",
       "raceH              0.236792   0.206647   1.146 0.251846    \n",
       "raceO             -0.082698   0.183955  -0.450 0.653030    \n",
       "raceW              0.990003   0.153669   6.442 1.18e-10 ***\n",
       "fleeFoot           0.330663   0.081066   4.079 4.52e-05 ***\n",
       "fleeMissing        0.547662   0.086558   6.327 2.50e-10 ***\n",
       "fleeNot fleeing    1.260446   0.061815  20.391  < 2e-16 ***\n",
       "fleeOther         -0.017382   0.129957  -0.134 0.893597    \n",
       "body_cameraTrue    0.343193   0.051789   6.627 3.43e-11 ***\n",
       "age:raceH         -0.002214   0.005703  -0.388 0.697790    \n",
       "age:raceO          0.005285   0.004788   1.104 0.269687    \n",
       "age:raceW         -0.006023   0.004085  -1.474 0.140368    \n",
       "---\n",
       "Signif. codes:  0 ‘***’ 0.001 ‘**’ 0.01 ‘*’ 0.05 ‘.’ 0.1 ‘ ’ 1\n",
       "optimizer (Nelder_Mead) convergence code: 0 (OK)\n",
       "Model failed to converge with max|grad| = 0.0068239 (tol = 0.002, component 1)\n",
       "Model is nearly unidentifiable: very large eigenvalue\n",
       " - Rescale variables?\n"
      ]
     },
     "metadata": {},
     "output_type": "display_data"
    },
    {
     "name": "stderr",
     "output_type": "stream",
     "text": [
      "Warning message in eval(family$initialize, rho):\n",
      "“non-integer #successes in a binomial glm!”\n",
      "Warning message in checkConv(attr(opt, \"derivs\"), opt$par, ctrl = control$checkConv, :\n",
      "“Model failed to converge with max|grad| = 0.00603641 (tol = 0.002, component 1)”\n",
      "Warning message in checkConv(attr(opt, \"derivs\"), opt$par, ctrl = control$checkConv, :\n",
      "“Model is nearly unidentifiable: very large eigenvalue\n",
      " - Rescale variables?”\n",
      "\n",
      "Correlation matrix not shown by default, as p = 31 > 12.\n",
      "Use print(obj, correlation=TRUE)  or\n",
      "    vcov(obj)        if you need it\n",
      "\n",
      "\n"
     ]
    },
    {
     "data": {
      "text/plain": [
       "Generalized linear mixed model fit by maximum likelihood (Laplace\n",
       "  Approximation) [glmerMod]\n",
       " Family: binomial  ( logit )\n",
       "Formula: signs_of_mental_illness ~ armed + gender + age + race + flee +  \n",
       "    body_camera + armed * race + (1 | state)\n",
       "   Data: data\n",
       "Weights: response_weights\n",
       "\n",
       "     AIC      BIC   logLik deviance df.resid \n",
       " 17924.8  18145.3  -8930.4  17860.8     7249 \n",
       "\n",
       "Scaled residuals: \n",
       "    Min      1Q  Median      3Q     Max \n",
       "-2.8973 -1.2061 -0.7999 -0.4233  9.6067 \n",
       "\n",
       "Random effects:\n",
       " Groups Name        Variance Std.Dev.\n",
       " state  (Intercept) 0.1344   0.3666  \n",
       "Number of obs: 7281, groups:  state, 51\n",
       "\n",
       "Fixed effects:\n",
       "                         Estimate Std. Error z value Pr(>|z|)    \n",
       "(Intercept)             -1.632599   0.136141 -11.992  < 2e-16 ***\n",
       "armedknife               1.288588   0.119214  10.809  < 2e-16 ***\n",
       "armedother               1.025604   0.117072   8.760  < 2e-16 ***\n",
       "armedunarmed             0.673875   0.143045   4.711 2.47e-06 ***\n",
       "armedundetermined       -0.533047   0.374593  -1.423 0.154734    \n",
       "armedvehicle            -0.281389   0.312814  -0.900 0.368366    \n",
       "genderM                 -0.561586   0.085797  -6.546 5.93e-11 ***\n",
       "age                      0.008953   0.001473   6.077 1.22e-09 ***\n",
       "raceH                    0.423260   0.095156   4.448 8.66e-06 ***\n",
       "raceO                    0.466498   0.081775   5.705 1.17e-08 ***\n",
       "raceW                    1.097715   0.069585  15.775  < 2e-16 ***\n",
       "fleeFoot                 0.326510   0.081300   4.016 5.92e-05 ***\n",
       "fleeMissing              0.550404   0.086752   6.345 2.23e-10 ***\n",
       "fleeNot fleeing          1.260835   0.062016  20.331  < 2e-16 ***\n",
       "fleeOther               -0.009884   0.130161  -0.076 0.939472    \n",
       "body_cameraTrue          0.350741   0.052084   6.734 1.65e-11 ***\n",
       "armedknife:raceH        -0.553528   0.172244  -3.214 0.001311 ** \n",
       "armedother:raceH        -0.650039   0.172147  -3.776 0.000159 ***\n",
       "armedunarmed:raceH      -0.744338   0.247833  -3.003 0.002670 ** \n",
       "armedundetermined:raceH  0.972535   0.479397   2.029 0.042493 *  \n",
       "armedvehicle:raceH      -0.410691   0.501395  -0.819 0.412731    \n",
       "armedknife:raceO        -0.902487   0.160866  -5.610 2.02e-08 ***\n",
       "armedother:raceO        -0.530306   0.161147  -3.291 0.000999 ***\n",
       "armedunarmed:raceO      -0.564106   0.274607  -2.054 0.039953 *  \n",
       "armedundetermined:raceO  0.133333   0.419903   0.318 0.750840    \n",
       "armedvehicle:raceO      -1.322789   0.473687  -2.793 0.005230 ** \n",
       "armedknife:raceW        -0.839604   0.140915  -5.958 2.55e-09 ***\n",
       "armedother:raceW        -0.648629   0.138679  -4.677 2.91e-06 ***\n",
       "armedunarmed:raceW      -0.810128   0.183844  -4.407 1.05e-05 ***\n",
       "armedundetermined:raceW  0.072491   0.421710   0.172 0.863518    \n",
       "armedvehicle:raceW      -0.948693   0.383782  -2.472 0.013438 *  \n",
       "---\n",
       "Signif. codes:  0 ‘***’ 0.001 ‘**’ 0.01 ‘*’ 0.05 ‘.’ 0.1 ‘ ’ 1\n",
       "optimizer (Nelder_Mead) convergence code: 0 (OK)\n",
       "Model failed to converge with max|grad| = 0.00603641 (tol = 0.002, component 1)\n",
       "Model is nearly unidentifiable: very large eigenvalue\n",
       " - Rescale variables?\n"
      ]
     },
     "metadata": {},
     "output_type": "display_data"
    },
    {
     "name": "stderr",
     "output_type": "stream",
     "text": [
      "Warning message in eval(family$initialize, rho):\n",
      "“non-integer #successes in a binomial glm!”\n",
      "Warning message in checkConv(attr(opt, \"derivs\"), opt$par, ctrl = control$checkConv, :\n",
      "“Model is nearly unidentifiable: very large eigenvalue\n",
      " - Rescale variables?;Model is nearly unidentifiable: large eigenvalue ratio\n",
      " - Rescale variables?”\n",
      "\n",
      "Correlation matrix not shown by default, as p = 28 > 12.\n",
      "Use print(obj, correlation=TRUE)  or\n",
      "    vcov(obj)        if you need it\n",
      "\n",
      "\n"
     ]
    },
    {
     "data": {
      "text/plain": [
       "Generalized linear mixed model fit by maximum likelihood (Laplace\n",
       "  Approximation) [glmerMod]\n",
       " Family: binomial  ( logit )\n",
       "Formula: signs_of_mental_illness ~ armed + gender + age + race + flee +  \n",
       "    body_camera + flee * race + (1 | state)\n",
       "   Data: data\n",
       "Weights: response_weights\n",
       "\n",
       "     AIC      BIC   logLik deviance df.resid \n",
       " 17960.7  18160.6  -8951.3  17902.7     7252 \n",
       "\n",
       "Scaled residuals: \n",
       "    Min      1Q  Median      3Q     Max \n",
       "-3.1051 -1.2062 -0.8053 -0.3946  8.7322 \n",
       "\n",
       "Random effects:\n",
       " Groups Name        Variance Std.Dev.\n",
       " state  (Intercept) 0.1316   0.3627  \n",
       "Number of obs: 7281, groups:  state, 51\n",
       "\n",
       "Fixed effects:\n",
       "                       Estimate Std. Error z value Pr(>|z|)    \n",
       "(Intercept)           -1.102787   0.167160  -6.597 4.19e-11 ***\n",
       "armedknife             0.642674   0.051315  12.524  < 2e-16 ***\n",
       "armedother             0.517264   0.050693  10.204  < 2e-16 ***\n",
       "armedunarmed           0.109929   0.078315   1.404 0.160417    \n",
       "armedundetermined     -0.269595   0.118660  -2.272 0.023087 *  \n",
       "armedvehicle          -1.043994   0.154231  -6.769 1.30e-11 ***\n",
       "genderM               -0.562084   0.085847  -6.548 5.85e-11 ***\n",
       "age                    0.009901   0.001466   6.756 1.42e-11 ***\n",
       "raceH                 -0.211104   0.203329  -1.038 0.299159    \n",
       "raceO                 -0.478528   0.199718  -2.396 0.016574 *  \n",
       "raceW                  0.465177   0.146663   3.172 0.001515 ** \n",
       "fleeFoot               0.168953   0.161499   1.046 0.295491    \n",
       "fleeMissing            0.285061   0.215678   1.322 0.186269    \n",
       "fleeNot fleeing        0.906417   0.135264   6.701 2.07e-11 ***\n",
       "fleeOther             -1.711526   0.495360  -3.455 0.000550 ***\n",
       "body_cameraTrue        0.346766   0.051829   6.691 2.22e-11 ***\n",
       "raceH:fleeFoot         0.394143   0.265307   1.486 0.137382    \n",
       "raceO:fleeFoot         0.439228   0.260667   1.685 0.091986 .  \n",
       "raceW:fleeFoot        -0.011866   0.200210  -0.059 0.952739    \n",
       "raceH:fleeMissing      0.341767   0.330467   1.034 0.301047    \n",
       "raceO:fleeMissing      0.467577   0.283820   1.647 0.099467 .  \n",
       "raceW:fleeMissing      0.344617   0.250315   1.377 0.168594    \n",
       "raceH:fleeNot fleeing  0.386993   0.215637   1.795 0.072709 .  \n",
       "raceO:fleeNot fleeing  0.738201   0.210897   3.500 0.000465 ***\n",
       "raceW:fleeNot fleeing  0.354925   0.157604   2.252 0.024322 *  \n",
       "raceH:fleeOther        2.223763   0.575360   3.865 0.000111 ***\n",
       "raceO:fleeOther        1.939513   0.599594   3.235 0.001218 ** \n",
       "raceW:fleeOther        1.839595   0.526223   3.496 0.000473 ***\n",
       "---\n",
       "Signif. codes:  0 ‘***’ 0.001 ‘**’ 0.01 ‘*’ 0.05 ‘.’ 0.1 ‘ ’ 1\n",
       "optimizer (Nelder_Mead) convergence code: 0 (OK)\n",
       "Model is nearly unidentifiable: very large eigenvalue\n",
       " - Rescale variables?\n",
       "Model is nearly unidentifiable: large eigenvalue ratio\n",
       " - Rescale variables?\n"
      ]
     },
     "metadata": {},
     "output_type": "display_data"
    },
    {
     "name": "stderr",
     "output_type": "stream",
     "text": [
      "Warning message in eval(family$initialize, rho):\n",
      "“non-integer #successes in a binomial glm!”\n",
      "Warning message in checkConv(attr(opt, \"derivs\"), opt$par, ctrl = control$checkConv, :\n",
      "“Model is nearly unidentifiable: very large eigenvalue\n",
      " - Rescale variables?”\n",
      "\n",
      "Correlation matrix not shown by default, as p = 19 > 12.\n",
      "Use print(obj, correlation=TRUE)  or\n",
      "    vcov(obj)        if you need it\n",
      "\n",
      "\n"
     ]
    },
    {
     "data": {
      "text/plain": [
       "Generalized linear mixed model fit by maximum likelihood (Laplace\n",
       "  Approximation) [glmerMod]\n",
       " Family: binomial  ( logit )\n",
       "Formula: signs_of_mental_illness ~ armed + gender + age + race + flee +  \n",
       "    body_camera + body_camera * race + (1 | state)\n",
       "   Data: data\n",
       "Weights: response_weights\n",
       "\n",
       "     AIC      BIC   logLik deviance df.resid \n",
       " 17980.2  18118.1  -8970.1  17940.2     7261 \n",
       "\n",
       "Scaled residuals: \n",
       "    Min      1Q  Median      3Q     Max \n",
       "-3.1812 -1.2040 -0.8085 -0.4403  7.7247 \n",
       "\n",
       "Random effects:\n",
       " Groups Name        Variance Std.Dev.\n",
       " state  (Intercept) 0.1304   0.3611  \n",
       "Number of obs: 7281, groups:  state, 51\n",
       "\n",
       "Fixed effects:\n",
       "                       Estimate Std. Error z value Pr(>|z|)    \n",
       "(Intercept)           -1.373387   0.131838 -10.417  < 2e-16 ***\n",
       "armedknife             0.641385   0.051186  12.530  < 2e-16 ***\n",
       "armedother             0.518505   0.050594  10.248  < 2e-16 ***\n",
       "armedunarmed           0.109049   0.078366   1.392   0.1641    \n",
       "armedundetermined     -0.286775   0.117811  -2.434   0.0149 *  \n",
       "armedvehicle          -1.052356   0.153733  -6.845 7.63e-12 ***\n",
       "genderM               -0.572089   0.085809  -6.667 2.61e-11 ***\n",
       "age                    0.009990   0.001464   6.825 8.76e-12 ***\n",
       "raceH                  0.146412   0.073861   1.982   0.0475 *  \n",
       "raceO                  0.113094   0.066579   1.699   0.0894 .  \n",
       "raceW                  0.733352   0.056134  13.064  < 2e-16 ***\n",
       "fleeFoot               0.324058   0.080954   4.003 6.25e-05 ***\n",
       "fleeMissing            0.541366   0.086468   6.261 3.83e-10 ***\n",
       "fleeNot fleeing        1.256648   0.061762  20.347  < 2e-16 ***\n",
       "fleeOther             -0.011344   0.129873  -0.087   0.9304    \n",
       "body_cameraTrue        0.248495   0.099841   2.489   0.0128 *  \n",
       "raceH:body_cameraTrue  0.063314   0.163601   0.387   0.6988    \n",
       "raceO:body_cameraTrue  0.112904   0.149298   0.756   0.4495    \n",
       "raceW:body_cameraTrue  0.157685   0.130542   1.208   0.2271    \n",
       "---\n",
       "Signif. codes:  0 ‘***’ 0.001 ‘**’ 0.01 ‘*’ 0.05 ‘.’ 0.1 ‘ ’ 1\n",
       "optimizer (Nelder_Mead) convergence code: 0 (OK)\n",
       "Model is nearly unidentifiable: very large eigenvalue\n",
       " - Rescale variables?\n"
      ]
     },
     "metadata": {},
     "output_type": "display_data"
    },
    {
     "name": "stderr",
     "output_type": "stream",
     "text": [
      "Warning message in eval(family$initialize, rho):\n",
      "“non-integer #successes in a binomial glm!”\n",
      "Warning message in checkConv(attr(opt, \"derivs\"), opt$par, ctrl = control$checkConv, :\n",
      "“Model failed to converge with max|grad| = 0.0259373 (tol = 0.002, component 1)”\n",
      "Warning message in checkConv(attr(opt, \"derivs\"), opt$par, ctrl = control$checkConv, :\n",
      "“Model is nearly unidentifiable: very large eigenvalue\n",
      " - Rescale variables?”\n",
      "\n",
      "Correlation matrix not shown by default, as p = 17 > 12.\n",
      "Use print(obj, correlation=TRUE)  or\n",
      "    vcov(obj)        if you need it\n",
      "\n",
      "\n"
     ]
    },
    {
     "data": {
      "text/plain": [
       "Generalized linear mixed model fit by maximum likelihood (Laplace\n",
       "  Approximation) [glmerMod]\n",
       " Family: binomial  ( logit )\n",
       "Formula: signs_of_mental_illness ~ armed + gender + age + race + flee +  \n",
       "    body_camera + gender * age + (1 | state)\n",
       "   Data: data\n",
       "Weights: response_weights\n",
       "\n",
       "     AIC      BIC   logLik deviance df.resid \n",
       " 17973.7  18097.8  -8968.9  17937.7     7263 \n",
       "\n",
       "Scaled residuals: \n",
       "    Min      1Q  Median      3Q     Max \n",
       "-3.4617 -1.2027 -0.8090 -0.4392  7.7525 \n",
       "\n",
       "Random effects:\n",
       " Groups Name        Variance Std.Dev.\n",
       " state  (Intercept) 0.1298   0.3602  \n",
       "Number of obs: 7281, groups:  state, 51\n",
       "\n",
       "Fixed effects:\n",
       "                   Estimate Std. Error z value Pr(>|z|)    \n",
       "(Intercept)       -1.894585   0.285433  -6.638 3.19e-11 ***\n",
       "armedknife         0.640795   0.051183  12.520  < 2e-16 ***\n",
       "armedother         0.519829   0.050577  10.278  < 2e-16 ***\n",
       "armedunarmed       0.115042   0.078375   1.468 0.142147    \n",
       "armedundetermined -0.291344   0.117813  -2.473 0.013401 *  \n",
       "armedvehicle      -1.056533   0.154031  -6.859 6.92e-12 ***\n",
       "genderM           -0.048417   0.277183  -0.175 0.861335    \n",
       "age                0.023252   0.006902   3.369 0.000754 ***\n",
       "raceH              0.161231   0.067561   2.386 0.017012 *  \n",
       "raceO              0.140055   0.060436   2.317 0.020482 *  \n",
       "raceW              0.761827   0.051253  14.864  < 2e-16 ***\n",
       "fleeFoot           0.324796   0.080957   4.012 6.02e-05 ***\n",
       "fleeMissing        0.542709   0.086459   6.277 3.45e-10 ***\n",
       "fleeNot fleeing    1.257443   0.061785  20.352  < 2e-16 ***\n",
       "fleeOther         -0.009396   0.129757  -0.072 0.942276    \n",
       "body_cameraTrue    0.340625   0.051708   6.588 4.47e-11 ***\n",
       "genderM:age       -0.013921   0.007043  -1.977 0.048091 *  \n",
       "---\n",
       "Signif. codes:  0 ‘***’ 0.001 ‘**’ 0.01 ‘*’ 0.05 ‘.’ 0.1 ‘ ’ 1\n",
       "optimizer (Nelder_Mead) convergence code: 0 (OK)\n",
       "Model failed to converge with max|grad| = 0.0259373 (tol = 0.002, component 1)\n",
       "Model is nearly unidentifiable: very large eigenvalue\n",
       " - Rescale variables?\n"
      ]
     },
     "metadata": {},
     "output_type": "display_data"
    },
    {
     "name": "stderr",
     "output_type": "stream",
     "text": [
      "Warning message in eval(family$initialize, rho):\n",
      "“non-integer #successes in a binomial glm!”\n",
      "Warning message in checkConv(attr(opt, \"derivs\"), opt$par, ctrl = control$checkConv, :\n",
      "“Model is nearly unidentifiable: very large eigenvalue\n",
      " - Rescale variables?”\n",
      "\n",
      "Correlation matrix not shown by default, as p = 21 > 12.\n",
      "Use print(obj, correlation=TRUE)  or\n",
      "    vcov(obj)        if you need it\n",
      "\n",
      "\n"
     ]
    },
    {
     "data": {
      "text/plain": [
       "Generalized linear mixed model fit by maximum likelihood (Laplace\n",
       "  Approximation) [glmerMod]\n",
       " Family: binomial  ( logit )\n",
       "Formula: signs_of_mental_illness ~ armed + gender + age + race + flee +  \n",
       "    body_camera + armed * body_camera + (1 | state)\n",
       "   Data: data\n",
       "Weights: response_weights\n",
       "\n",
       "     AIC      BIC   logLik deviance df.resid \n",
       " 17966.4  18118.0  -8961.2  17922.4     7259 \n",
       "\n",
       "Scaled residuals: \n",
       "    Min      1Q  Median      3Q     Max \n",
       "-3.2008 -1.1961 -0.8108 -0.4408  7.8148 \n",
       "\n",
       "Random effects:\n",
       " Groups Name        Variance Std.Dev.\n",
       " state  (Intercept) 0.1323   0.3637  \n",
       "Number of obs: 7281, groups:  state, 51\n",
       "\n",
       "Fixed effects:\n",
       "                                   Estimate Std. Error z value Pr(>|z|)    \n",
       "(Intercept)                       -1.370576   0.131331 -10.436  < 2e-16 ***\n",
       "armedknife                         0.596739   0.055684  10.717  < 2e-16 ***\n",
       "armedother                         0.441695   0.054796   8.061 7.58e-16 ***\n",
       "armedunarmed                       0.023056   0.088449   0.261  0.79435    \n",
       "armedundetermined                 -0.341147   0.126306  -2.701  0.00691 ** \n",
       "armedvehicle                      -1.106144   0.165790  -6.672 2.52e-11 ***\n",
       "genderM                           -0.565981   0.086129  -6.571 4.99e-11 ***\n",
       "age                                0.009988   0.001463   6.825 8.78e-12 ***\n",
       "raceH                              0.160308   0.067758   2.366  0.01799 *  \n",
       "raceO                              0.133145   0.060512   2.200  0.02778 *  \n",
       "raceW                              0.757050   0.051301  14.757  < 2e-16 ***\n",
       "fleeFoot                           0.331958   0.081104   4.093 4.26e-05 ***\n",
       "fleeMissing                        0.546343   0.086551   6.312 2.75e-10 ***\n",
       "fleeNot fleeing                    1.257943   0.061909  20.319  < 2e-16 ***\n",
       "fleeOther                         -0.001877   0.129956  -0.014  0.98848    \n",
       "body_cameraTrue                    0.123623   0.073177   1.689  0.09115 .  \n",
       "armedknife:body_cameraTrue         0.313877   0.137100   2.289  0.02206 *  \n",
       "armedother:body_cameraTrue         0.531145   0.140729   3.774  0.00016 ***\n",
       "armedunarmed:body_cameraTrue       0.474506   0.190094   2.496  0.01255 *  \n",
       "armedundetermined:body_cameraTrue  0.404751   0.338586   1.195  0.23192    \n",
       "armedvehicle:body_cameraTrue       0.429928   0.430238   0.999  0.31766    \n",
       "---\n",
       "Signif. codes:  0 ‘***’ 0.001 ‘**’ 0.01 ‘*’ 0.05 ‘.’ 0.1 ‘ ’ 1\n",
       "optimizer (Nelder_Mead) convergence code: 0 (OK)\n",
       "Model is nearly unidentifiable: very large eigenvalue\n",
       " - Rescale variables?\n"
      ]
     },
     "metadata": {},
     "output_type": "display_data"
    }
   ],
   "source": [
    "# Consider interactions\n",
    "\n",
    "# Try gender*race - insignificant features and no AIC improvement\n",
    "model_overall_inter1 <- glmer(signs_of_mental_illness ~ armed + gender + age + race + flee + body_camera + gender*race + (1|state), \n",
    "                    data=data, family=\"binomial\", weights=response_weights)\n",
    "summary(model_overall_inter1)\n",
    "\n",
    "# Try age*race - insignificant features and no AIC improvement\n",
    "model_overall_inter2 <- glmer(signs_of_mental_illness ~ armed + gender + age + race + flee + body_camera + age*race + (1|state), \n",
    "                    data=data, family=\"binomial\", weights=response_weights)\n",
    "summary(model_overall_inter2)\n",
    "\n",
    "# Try armed*race - a features were significant, but AIC only dropped form 8810 to 8807, so not enough for inclusion\n",
    "model_overall_inter3 <- glmer(signs_of_mental_illness ~ armed + gender + age + race + flee + body_camera + armed*race + (1|state), \n",
    "                    data=data, family=\"binomial\", weights=response_weights)\n",
    "summary(model_overall_inter3)\n",
    "\n",
    "# Try flee*race - relatively insignificant features and no AIC improvement\n",
    "model_overall_inter4 <- glmer(signs_of_mental_illness ~ armed + gender + age + race + flee + body_camera + flee*race + (1|state), \n",
    "                    data=data, family=\"binomial\", weights=response_weights)\n",
    "summary(model_overall_inter4)\n",
    "\n",
    "# Try body_camera*race - insignificant features and no AIC improvement\n",
    "model_overall_inter5 <- glmer(signs_of_mental_illness ~ armed + gender + age + race + flee + body_camera + body_camera*race + (1|state), \n",
    "                    data=data, family=\"binomial\", weights=response_weights)\n",
    "summary(model_overall_inter5)\n",
    "\n",
    "# Try gender*age - insignificant features and no AIC improvement\n",
    "model_overall_inter6 <- glmer(signs_of_mental_illness ~ armed + gender + age + race + flee + body_camera + gender*age + (1|state), \n",
    "                    data=data, family=\"binomial\", weights=response_weights)\n",
    "summary(model_overall_inter6)\n",
    "\n",
    "# Try armed*body_camera - relatively insignificant features and no AIC improvement\n",
    "model_overall_inter7 <- glmer(signs_of_mental_illness ~ armed + gender + age + race + flee + body_camera + armed*body_camera + (1|state), \n",
    "                    data=data, family=\"binomial\", weights=response_weights)\n",
    "summary(model_overall_inter7)"
   ]
  },
  {
   "cell_type": "markdown",
   "id": "1acc25cc",
   "metadata": {},
   "source": [
    "We're particularly interested in exploring interactions between race and other features, yet find that including no such interactions improve our model. Few created features are significant, and none decrease AIC by a meaningful amount. We see similar results for interactions between gender and age, as well as armed and body camera."
   ]
  },
  {
   "cell_type": "code",
   "execution_count": 22,
   "id": "bcdc502d",
   "metadata": {
    "vscode": {
     "languageId": "r"
    }
   },
   "outputs": [
    {
     "name": "stdout",
     "output_type": "stream",
     "text": [
      "[1] 0.6490867\n"
     ]
    },
    {
     "data": {
      "text/plain": [
       "       \n",
       "pred    False True\n",
       "  False  3626  475\n",
       "  True   2080 1100"
      ]
     },
     "metadata": {},
     "output_type": "display_data"
    },
    {
     "data": {
      "text/html": [
       "<style>\n",
       ".dl-inline {width: auto; margin:0; padding: 0}\n",
       ".dl-inline>dt, .dl-inline>dd {float: none; width: auto; display: inline-block}\n",
       ".dl-inline>dt::after {content: \":\\0020\"; padding-right: .5ex}\n",
       ".dl-inline>dt:not(:first-of-type) {padding-left: .5ex}\n",
       "</style><dl class=dl-inline><dt>False</dt><dd>5706</dd><dt>True</dt><dd>1575</dd></dl>\n"
      ],
      "text/latex": [
       "\\begin{description*}\n",
       "\\item[False] 5706\n",
       "\\item[True] 1575\n",
       "\\end{description*}\n"
      ],
      "text/markdown": [
       "False\n",
       ":   5706True\n",
       ":   1575\n",
       "\n"
      ],
      "text/plain": [
       "False  True \n",
       " 5706  1575 "
      ]
     },
     "metadata": {},
     "output_type": "display_data"
    },
    {
     "data": {
      "text/html": [
       "<table class=\"dataframe\">\n",
       "<caption>A matrix: 6 × 3 of type dbl</caption>\n",
       "<thead>\n",
       "\t<tr><th></th><th scope=col>GVIF</th><th scope=col>Df</th><th scope=col>GVIF^(1/(2*Df))</th></tr>\n",
       "</thead>\n",
       "<tbody>\n",
       "\t<tr><th scope=row>armed</th><td>1.142098</td><td>5</td><td>1.013375</td></tr>\n",
       "\t<tr><th scope=row>age</th><td>1.086530</td><td>1</td><td>1.042367</td></tr>\n",
       "\t<tr><th scope=row>gender</th><td>1.024223</td><td>1</td><td>1.012039</td></tr>\n",
       "\t<tr><th scope=row>race</th><td>1.104925</td><td>3</td><td>1.016769</td></tr>\n",
       "\t<tr><th scope=row>flee</th><td>1.143649</td><td>4</td><td>1.016920</td></tr>\n",
       "\t<tr><th scope=row>body_camera</th><td>1.018748</td><td>1</td><td>1.009330</td></tr>\n",
       "</tbody>\n",
       "</table>\n"
      ],
      "text/latex": [
       "A matrix: 6 × 3 of type dbl\n",
       "\\begin{tabular}{r|lll}\n",
       "  & GVIF & Df & GVIF\\textasciicircum{}(1/(2*Df))\\\\\n",
       "\\hline\n",
       "\tarmed & 1.142098 & 5 & 1.013375\\\\\n",
       "\tage & 1.086530 & 1 & 1.042367\\\\\n",
       "\tgender & 1.024223 & 1 & 1.012039\\\\\n",
       "\trace & 1.104925 & 3 & 1.016769\\\\\n",
       "\tflee & 1.143649 & 4 & 1.016920\\\\\n",
       "\tbody\\_camera & 1.018748 & 1 & 1.009330\\\\\n",
       "\\end{tabular}\n"
      ],
      "text/markdown": [
       "\n",
       "A matrix: 6 × 3 of type dbl\n",
       "\n",
       "| <!--/--> | GVIF | Df | GVIF^(1/(2*Df)) |\n",
       "|---|---|---|---|\n",
       "| armed | 1.142098 | 5 | 1.013375 |\n",
       "| age | 1.086530 | 1 | 1.042367 |\n",
       "| gender | 1.024223 | 1 | 1.012039 |\n",
       "| race | 1.104925 | 3 | 1.016769 |\n",
       "| flee | 1.143649 | 4 | 1.016920 |\n",
       "| body_camera | 1.018748 | 1 | 1.009330 |\n",
       "\n"
      ],
      "text/plain": [
       "            GVIF     Df GVIF^(1/(2*Df))\n",
       "armed       1.142098 5  1.013375       \n",
       "age         1.086530 1  1.042367       \n",
       "gender      1.024223 1  1.012039       \n",
       "race        1.104925 3  1.016769       \n",
       "flee        1.143649 4  1.016920       \n",
       "body_camera 1.018748 1  1.009330       "
      ]
     },
     "metadata": {},
     "output_type": "display_data"
    }
   ],
   "source": [
    "#     + Use the evaluation metrics to settle on a final model that we want to stick with, check VIF\n",
    "\n",
    "#### As of now, proceeding with the original model w/o splines or interactions\n",
    "\n",
    "library(InformationValue)\n",
    "\n",
    "# Accuracy\n",
    "threshold = 0.5\n",
    "probs = predict(model_overall, type=\"response\")\n",
    "pred = ifelse(probs > threshold, 'True', 'False')\n",
    "\n",
    "accuracy = sum(pred == data$signs_of_mental_illness) / length(pred)\n",
    "print(accuracy)\n",
    "\n",
    "# Sensitivity and specificity\n",
    "t = table(pred, data$signs_of_mental_illness)\n",
    "sensitivity = t[2,2] / sum(t[,2])\n",
    "specificity = t[1,1] / sum(t[,1])\n",
    "\n",
    "t\n",
    "summary(data$signs_of_mental_illness)\n",
    "\n",
    "# VIF\n",
    "vif(model_overall)"
   ]
  },
  {
   "cell_type": "markdown",
   "id": "a726a4b7",
   "metadata": {},
   "source": [
    "Using our original model without splines or transformations, we achieve an accuracy of 78.8%. Considering the target variable is 78.4% negative, we're barely beating the baseline accuracy score. Only 115 positives for signs of mental illness are correctly classified, while 1,460 true positives were incorrectly classified as negative. We have a very high specificity (0.985) but very low sensitivity (0.073).\n",
    "\n",
    "We do not see high linear dependence between features, as all VIFs are close to 1."
   ]
  },
  {
   "cell_type": "code",
   "execution_count": 23,
   "id": "97018f42",
   "metadata": {
    "vscode": {
     "languageId": "r"
    }
   },
   "outputs": [
    {
     "data": {
      "image/png": "[encoded data removed]",
      "text/plain": [
       "Plot with title “Histogram of residuals(model_overall)”"
      ]
     },
     "metadata": {
      "image/png": {
       "height": 540,
       "width": 600
      }
     },
     "output_type": "display_data"
    },
    {
     "data": {
      "image/png": "[encoded data removed]",
      "text/plain": [
       "plot without title"
      ]
     },
     "metadata": {
      "image/png": {
       "height": 540,
       "width": 600
      }
     },
     "output_type": "display_data"
    },
    {
     "data": {
      "image/png": "[encoded data removed]",
      "text/plain": [
       "plot without title"
      ]
     },
     "metadata": {
      "image/png": {
       "height": 540,
       "width": 600
      }
     },
     "output_type": "display_data"
    }
   ],
   "source": [
    "#     + Get a sense of goodness of fit and residuals for this overall model (we may not need this, but might as well do it)\n",
    "\n",
    "# Histogram of residuals\n",
    "hist(residuals(model_overall))\n",
    "\n",
    "# Q-Q plot\n",
    "qqplot(residuals(model_overall), qnorm(ppoints(nrow(data))))\n",
    "\n",
    "# Calibration\n",
    "data$probs = probs\n",
    "# tb_df$prob_grp = ceiling(order(tb_df$probs)/135) \n",
    "data$prob_grp = cut(data$probs, 10)\n",
    "calibration_df = data %>% \n",
    "  group_by(prob_grp) %>%\n",
    "  summarize(avg_SMI = mean(signs_of_mental_illness=='True'), avg_prob = mean(probs))\n",
    "\n",
    "ggplot(calibration_df) + geom_point(aes(x=avg_prob, y=avg_SMI)) +\n",
    "  geom_abline(aes(slope=1, intercept=0), col=\"red\")"
   ]
  },
  {
   "cell_type": "markdown",
   "id": "3c679e3a",
   "metadata": {},
   "source": [
    "The diagnostic plots for our model are not as clean as we'd like them to be - a Q-Q plot and histogram of residuals do not quite show the normality we'd like to see. The histogram of residuals specifically shows our residuals are bimodal, appearing to show a relatively normal distribution on either side of zero. Our model is well-calibrated for the first seven or eight of ten buckets, but does on average assigns lower probability of signs of mental illness to points where that average is actually higher."
   ]
  },
  {
   "cell_type": "code",
   "execution_count": 24,
   "id": "5ffa8e7e",
   "metadata": {
    "vscode": {
     "languageId": "r"
    }
   },
   "outputs": [
    {
     "data": {
      "text/html": [
       "<table class=\"dataframe\">\n",
       "<caption>A data.frame: 8 × 2</caption>\n",
       "<thead>\n",
       "\t<tr><th scope=col>Group.1</th><th scope=col>x</th></tr>\n",
       "\t<tr><th scope=col>&lt;dbl&gt;</th><th scope=col>&lt;int&gt;</th></tr>\n",
       "</thead>\n",
       "<tbody>\n",
       "\t<tr><td>2015</td><td> 994</td></tr>\n",
       "\t<tr><td>2016</td><td> 958</td></tr>\n",
       "\t<tr><td>2017</td><td> 980</td></tr>\n",
       "\t<tr><td>2018</td><td> 985</td></tr>\n",
       "\t<tr><td>2019</td><td> 999</td></tr>\n",
       "\t<tr><td>2020</td><td>1020</td></tr>\n",
       "\t<tr><td>2021</td><td>1051</td></tr>\n",
       "\t<tr><td>2022</td><td> 294</td></tr>\n",
       "</tbody>\n",
       "</table>\n"
      ],
      "text/latex": [
       "A data.frame: 8 × 2\n",
       "\\begin{tabular}{ll}\n",
       " Group.1 & x\\\\\n",
       " <dbl> & <int>\\\\\n",
       "\\hline\n",
       "\t 2015 &  994\\\\\n",
       "\t 2016 &  958\\\\\n",
       "\t 2017 &  980\\\\\n",
       "\t 2018 &  985\\\\\n",
       "\t 2019 &  999\\\\\n",
       "\t 2020 & 1020\\\\\n",
       "\t 2021 & 1051\\\\\n",
       "\t 2022 &  294\\\\\n",
       "\\end{tabular}\n"
      ],
      "text/markdown": [
       "\n",
       "A data.frame: 8 × 2\n",
       "\n",
       "| Group.1 &lt;dbl&gt; | x &lt;int&gt; |\n",
       "|---|---|\n",
       "| 2015 |  994 |\n",
       "| 2016 |  958 |\n",
       "| 2017 |  980 |\n",
       "| 2018 |  985 |\n",
       "| 2019 |  999 |\n",
       "| 2020 | 1020 |\n",
       "| 2021 | 1051 |\n",
       "| 2022 |  294 |\n",
       "\n"
      ],
      "text/plain": [
       "  Group.1 x   \n",
       "1 2015     994\n",
       "2 2016     958\n",
       "3 2017     980\n",
       "4 2018     985\n",
       "5 2019     999\n",
       "6 2020    1020\n",
       "7 2021    1051\n",
       "8 2022     294"
      ]
     },
     "metadata": {},
     "output_type": "display_data"
    }
   ],
   "source": [
    "#  2. Once this final model has been decided, split the data into batches by year, and fit the model to each batch individually\n",
    "#     + Compare coefficients of fitted models across batches to interpret how things are changing/staying the same over time\n",
    "#     + Also check goodness of fit and residuals for each batch\n",
    "\n",
    "data = data %>% mutate(yr = year(date))\n",
    "data$rw = response_weights\n",
    "aggregate(data$yr, by=list(data$yr), FUN=length)"
   ]
  },
  {
   "cell_type": "code",
   "execution_count": 25,
   "id": "70fec8f5",
   "metadata": {
    "vscode": {
     "languageId": "r"
    }
   },
   "outputs": [],
   "source": [
    "# Splitting into batches\n",
    "\n",
    "batch_features_to_keep = c(\"armed\",\"age\",\"gender\",\"race\",\"state\",\"flee\",\"body_camera\",\"signs_of_mental_illness\")\n",
    "\n",
    "batch_1 = data[data$yr %in% c(2015, 2016), ]\n",
    "batch_1 = batch_1[, (names(batch_1) %in% batch_features_to_keep)]\n",
    "\n",
    "\n",
    "batch_2 = data[data$yr %in% c(2017, 2018), ]\n",
    "batch_2 = batch_2[, (names(batch_2) %in% batch_features_to_keep)]\n",
    "\n",
    "batch_3 = data[data$yr %in% c(2019, 2020), ]\n",
    "batch_3 = batch_3[, (names(batch_3) %in% batch_features_to_keep)]\n",
    "\n",
    "batch_4 = data[data$yr %in% c(2021, 2022), ]\n",
    "batch_4 = batch_4[, (names(batch_4) %in% batch_features_to_keep)]"
   ]
  },
  {
   "cell_type": "code",
   "execution_count": 26,
   "id": "56f314a9",
   "metadata": {
    "vscode": {
     "languageId": "r"
    }
   },
   "outputs": [
    {
     "data": {
      "text/html": [
       "508"
      ],
      "text/latex": [
       "508"
      ],
      "text/markdown": [
       "508"
      ],
      "text/plain": [
       "[1] 508"
      ]
     },
     "metadata": {},
     "output_type": "display_data"
    },
    {
     "data": {
      "text/html": [
       "1444"
      ],
      "text/latex": [
       "1444"
      ],
      "text/markdown": [
       "1444"
      ],
      "text/plain": [
       "[1] 1444"
      ]
     },
     "metadata": {},
     "output_type": "display_data"
    }
   ],
   "source": [
    "get_pos_weight <- function(smi) {\n",
    "    pos_count = length(smi[smi == 'True'])\n",
    "    return (pos_count/(length(smi)))\n",
    "}\n",
    "\n",
    "\n",
    "length(batch_1$signs_of_mental_illness[batch_1$signs_of_mental_illness == 'True'])\n",
    "length(batch_1$signs_of_mental_illness[batch_1$signs_of_mental_illness == 'False'])"
   ]
  },
  {
   "cell_type": "code",
   "execution_count": 27,
   "id": "26450407",
   "metadata": {
    "vscode": {
     "languageId": "r"
    }
   },
   "outputs": [
    {
     "data": {
      "text/html": [
       "''"
      ],
      "text/latex": [
       "''"
      ],
      "text/markdown": [
       "''"
      ],
      "text/plain": [
       "[1] \"\""
      ]
     },
     "metadata": {},
     "output_type": "display_data"
    },
    {
     "data": {
      "text/html": [
       "'THIS IS NOT CONVERGING WITH WEIGHTS, SO CURRENTLY RUN WITHOUT WEIGHTS'"
      ],
      "text/latex": [
       "'THIS IS NOT CONVERGING WITH WEIGHTS, SO CURRENTLY RUN WITHOUT WEIGHTS'"
      ],
      "text/markdown": [
       "'THIS IS NOT CONVERGING WITH WEIGHTS, SO CURRENTLY RUN WITHOUT WEIGHTS'"
      ],
      "text/plain": [
       "[1] \"THIS IS NOT CONVERGING WITH WEIGHTS, SO CURRENTLY RUN WITHOUT WEIGHTS\""
      ]
     },
     "metadata": {},
     "output_type": "display_data"
    },
    {
     "data": {
      "text/html": [
       "''"
      ],
      "text/latex": [
       "''"
      ],
      "text/markdown": [
       "''"
      ],
      "text/plain": [
       "[1] \"\""
      ]
     },
     "metadata": {},
     "output_type": "display_data"
    }
   ],
   "source": [
    "# Fitting models\n",
    "\n",
    "\"\"\n",
    "\"THIS IS NOT CONVERGING WITH WEIGHTS, SO CURRENTLY RUN WITHOUT WEIGHTS\"\n",
    "\"\"\n",
    "pos_wt = get_pos_weight(batch_1$signs_of_mental_illness)\n",
    "neg_wt = 1 - pos_wt\n",
    "b1_weights <- ifelse(batch_1$signs_of_mental_illness == 'True', 1/pos_wt, 1/neg_wt)\n",
    "\n",
    "\n",
    "model1 <- glmer(signs_of_mental_illness ~ armed + age + gender + race + flee + body_camera + (1|state), \n",
    "            data=batch_1, family=\"binomial\")"
   ]
  },
  {
   "cell_type": "code",
   "execution_count": 28,
   "id": "48c6ccd6",
   "metadata": {
    "vscode": {
     "languageId": "r"
    }
   },
   "outputs": [
    {
     "data": {
      "text/html": [
       "''"
      ],
      "text/latex": [
       "''"
      ],
      "text/markdown": [
       "''"
      ],
      "text/plain": [
       "[1] \"\""
      ]
     },
     "metadata": {},
     "output_type": "display_data"
    },
    {
     "data": {
      "text/html": [
       "'THIS IS NOT CONVERGING WITH WEIGHTS, SO CURRENTLY RUN WITHOUT WEIGHTS'"
      ],
      "text/latex": [
       "'THIS IS NOT CONVERGING WITH WEIGHTS, SO CURRENTLY RUN WITHOUT WEIGHTS'"
      ],
      "text/markdown": [
       "'THIS IS NOT CONVERGING WITH WEIGHTS, SO CURRENTLY RUN WITHOUT WEIGHTS'"
      ],
      "text/plain": [
       "[1] \"THIS IS NOT CONVERGING WITH WEIGHTS, SO CURRENTLY RUN WITHOUT WEIGHTS\""
      ]
     },
     "metadata": {},
     "output_type": "display_data"
    },
    {
     "data": {
      "text/html": [
       "''"
      ],
      "text/latex": [
       "''"
      ],
      "text/markdown": [
       "''"
      ],
      "text/plain": [
       "[1] \"\""
      ]
     },
     "metadata": {},
     "output_type": "display_data"
    },
    {
     "name": "stderr",
     "output_type": "stream",
     "text": [
      "Warning message in checkConv(attr(opt, \"derivs\"), opt$par, ctrl = control$checkConv, :\n",
      "“Model failed to converge with max|grad| = 0.0294407 (tol = 0.002, component 1)”\n"
     ]
    }
   ],
   "source": [
    "\"\"\n",
    "\"THIS IS NOT CONVERGING WITH WEIGHTS, SO CURRENTLY RUN WITHOUT WEIGHTS\"\n",
    "\"\"\n",
    "pos_wt = get_pos_weight(batch_2$signs_of_mental_illness)\n",
    "neg_wt = 1 - pos_wt\n",
    "b2_weights <- ifelse(batch_2$signs_of_mental_illness == 'True', 1/pos_wt, 1/neg_wt)\n",
    "\n",
    "model2 <- glmer(signs_of_mental_illness ~ armed + age + gender + race + flee + body_camera + (1|state), \n",
    "            data=batch_2, family=\"binomial\")"
   ]
  },
  {
   "cell_type": "code",
   "execution_count": 29,
   "id": "641a5da3",
   "metadata": {
    "vscode": {
     "languageId": "r"
    }
   },
   "outputs": [
    {
     "data": {
      "text/html": [
       "''"
      ],
      "text/latex": [
       "''"
      ],
      "text/markdown": [
       "''"
      ],
      "text/plain": [
       "[1] \"\""
      ]
     },
     "metadata": {},
     "output_type": "display_data"
    },
    {
     "data": {
      "text/html": [
       "'THIS IS NOT CONVERGING at all'"
      ],
      "text/latex": [
       "'THIS IS NOT CONVERGING at all'"
      ],
      "text/markdown": [
       "'THIS IS NOT CONVERGING at all'"
      ],
      "text/plain": [
       "[1] \"THIS IS NOT CONVERGING at all\""
      ]
     },
     "metadata": {},
     "output_type": "display_data"
    },
    {
     "data": {
      "text/html": [
       "''"
      ],
      "text/latex": [
       "''"
      ],
      "text/markdown": [
       "''"
      ],
      "text/plain": [
       "[1] \"\""
      ]
     },
     "metadata": {},
     "output_type": "display_data"
    },
    {
     "name": "stderr",
     "output_type": "stream",
     "text": [
      "Warning message in checkConv(attr(opt, \"derivs\"), opt$par, ctrl = control$checkConv, :\n",
      "“Model failed to converge with max|grad| = 0.00483409 (tol = 0.002, component 1)”\n"
     ]
    }
   ],
   "source": [
    "\"\"\n",
    "\"THIS IS NOT CONVERGING at all\"\n",
    "\"\"\n",
    "pos_wt = get_pos_weight(batch_3$signs_of_mental_illness)\n",
    "neg_wt = 1 - pos_wt\n",
    "b3_weights <- ifelse(batch_3$signs_of_mental_illness == 'True', 1/pos_wt, 1/neg_wt)\n",
    "\n",
    "model3 <- glmer(signs_of_mental_illness ~ armed + age + gender + race + flee + body_camera + (1|state), \n",
    "            data=batch_3, family=\"binomial\")"
   ]
  },
  {
   "cell_type": "code",
   "execution_count": 30,
   "id": "b5c7ce13",
   "metadata": {
    "vscode": {
     "languageId": "r"
    }
   },
   "outputs": [
    {
     "data": {
      "text/html": [
       "''"
      ],
      "text/latex": [
       "''"
      ],
      "text/markdown": [
       "''"
      ],
      "text/plain": [
       "[1] \"\""
      ]
     },
     "metadata": {},
     "output_type": "display_data"
    },
    {
     "data": {
      "text/html": [
       "'THIS IS NOT CONVERGING WITH WEIGHTS, SO CURRENTLY RUN WITHOUT WEIGHTS'"
      ],
      "text/latex": [
       "'THIS IS NOT CONVERGING WITH WEIGHTS, SO CURRENTLY RUN WITHOUT WEIGHTS'"
      ],
      "text/markdown": [
       "'THIS IS NOT CONVERGING WITH WEIGHTS, SO CURRENTLY RUN WITHOUT WEIGHTS'"
      ],
      "text/plain": [
       "[1] \"THIS IS NOT CONVERGING WITH WEIGHTS, SO CURRENTLY RUN WITHOUT WEIGHTS\""
      ]
     },
     "metadata": {},
     "output_type": "display_data"
    },
    {
     "data": {
      "text/html": [
       "''"
      ],
      "text/latex": [
       "''"
      ],
      "text/markdown": [
       "''"
      ],
      "text/plain": [
       "[1] \"\""
      ]
     },
     "metadata": {},
     "output_type": "display_data"
    }
   ],
   "source": [
    "\"\"\n",
    "\"THIS IS NOT CONVERGING WITH WEIGHTS, SO CURRENTLY RUN WITHOUT WEIGHTS\"\n",
    "\"\"\n",
    "pos_wt = get_pos_weight(batch_4$signs_of_mental_illness)\n",
    "neg_wt = 1 - pos_wt\n",
    "b4_weights <- ifelse(batch_4$signs_of_mental_illness == 'True', 1/pos_wt, 1/neg_wt)\n",
    "\n",
    "model4 <- glmer(signs_of_mental_illness ~ armed + age + gender + race + flee + body_camera + (1|state), \n",
    "            data=batch_4, family=\"binomial\")"
   ]
  },
  {
   "cell_type": "code",
   "execution_count": 67,
   "id": "4c3c0d3e",
   "metadata": {
    "vscode": {
     "languageId": "r"
    }
   },
   "outputs": [],
   "source": [
    "# Pulling coefficients and intercepts -> will take some manipulation, but should be doable\n",
    "mod1_coef_df = coef(model1)[\"state\"]$state\n",
    "mod2_coef_df = coef(model2)[\"state\"]$state\n",
    "mod3_coef_df = coef(model3)[\"state\"]$state\n",
    "mod4_coef_df = coef(model4)[\"state\"]$state"
   ]
  },
  {
   "cell_type": "code",
   "execution_count": 79,
   "id": "170d5c4c",
   "metadata": {
    "vscode": {
     "languageId": "r"
    }
   },
   "outputs": [
    {
     "data": {
      "text/html": [
       "<table class=\"dataframe\">\n",
       "<caption>A matrix: 5 × 51 of type chr</caption>\n",
       "<tbody>\n",
       "\t<tr><th scope=row>state</th><td>AK       </td><td>AL       </td><td>AR       </td><td>AZ       </td><td>CA       </td><td>CO       </td><td>CT       </td><td>DC       </td><td>DE       </td><td>FL       </td><td>⋯</td><td>SD       </td><td>TN       </td><td>TX       </td><td>UT       </td><td>VA       </td><td>VT       </td><td>WA       </td><td>WI       </td><td>WV       </td><td>WY       </td></tr>\n",
       "\t<tr><th scope=row>16</th><td>-2.436927</td><td>-2.384325</td><td>-2.461036</td><td>-2.361916</td><td>-2.371913</td><td>-2.500514</td><td>-2.367492</td><td>-2.360329</td><td>-2.371377</td><td>-2.366826</td><td>⋯</td><td>-2.331882</td><td>-2.442830</td><td>-2.386100</td><td>-2.306887</td><td>-2.240098</td><td>-2.376857</td><td>-2.118283</td><td>-2.366703</td><td>-2.431521</td><td>-2.391050</td></tr>\n",
       "\t<tr><th scope=row>18</th><td>-3.227066</td><td>-3.280982</td><td>-3.495782</td><td>-3.609338</td><td>-3.031211</td><td>-3.479078</td><td>-3.181332</td><td>-3.224603</td><td>-3.162901</td><td>-2.635243</td><td>⋯</td><td>-3.071845</td><td>-2.906184</td><td>-3.390009</td><td>-3.052826</td><td>-3.056021</td><td>-2.943151</td><td>-2.921738</td><td>-3.015478</td><td>-3.118391</td><td>-3.055671</td></tr>\n",
       "\t<tr><th scope=row>20</th><td>-2.800660</td><td>-2.726718</td><td>-2.756582</td><td>-2.845528</td><td>-2.837950</td><td>-2.892509</td><td>-2.766439</td><td>-2.796765</td><td>-2.768780</td><td>-2.750274</td><td>⋯</td><td>-2.788828</td><td>-2.861376</td><td>-2.820050</td><td>-2.826442</td><td>-2.812517</td><td>-2.791225</td><td>-2.688974</td><td>-2.813227</td><td>-2.828231</td><td>-2.783155</td></tr>\n",
       "\t<tr><th scope=row>22</th><td>-2.617661</td><td>-2.587248</td><td>-2.660324</td><td>-2.679024</td><td>-2.711311</td><td>-2.575371</td><td>-2.593256</td><td>-2.601900</td><td>-2.593783</td><td>-2.617698</td><td>⋯</td><td>-2.564186</td><td>-2.485433</td><td>-2.420710</td><td>-2.644094</td><td>-2.528493</td><td>-2.584468</td><td>-2.678967</td><td>-2.549457</td><td>-2.615785</td><td>-2.556145</td></tr>\n",
       "</tbody>\n",
       "</table>\n"
      ],
      "text/latex": [
       "A matrix: 5 × 51 of type chr\n",
       "\\begin{tabular}{r|lllllllllllllllllllll}\n",
       "\tstate & AK        & AL        & AR        & AZ        & CA        & CO        & CT        & DC        & DE        & FL        & ⋯ & SD        & TN        & TX        & UT        & VA        & VT        & WA        & WI        & WV        & WY       \\\\\n",
       "\t16 & -2.436927 & -2.384325 & -2.461036 & -2.361916 & -2.371913 & -2.500514 & -2.367492 & -2.360329 & -2.371377 & -2.366826 & ⋯ & -2.331882 & -2.442830 & -2.386100 & -2.306887 & -2.240098 & -2.376857 & -2.118283 & -2.366703 & -2.431521 & -2.391050\\\\\n",
       "\t18 & -3.227066 & -3.280982 & -3.495782 & -3.609338 & -3.031211 & -3.479078 & -3.181332 & -3.224603 & -3.162901 & -2.635243 & ⋯ & -3.071845 & -2.906184 & -3.390009 & -3.052826 & -3.056021 & -2.943151 & -2.921738 & -3.015478 & -3.118391 & -3.055671\\\\\n",
       "\t20 & -2.800660 & -2.726718 & -2.756582 & -2.845528 & -2.837950 & -2.892509 & -2.766439 & -2.796765 & -2.768780 & -2.750274 & ⋯ & -2.788828 & -2.861376 & -2.820050 & -2.826442 & -2.812517 & -2.791225 & -2.688974 & -2.813227 & -2.828231 & -2.783155\\\\\n",
       "\t22 & -2.617661 & -2.587248 & -2.660324 & -2.679024 & -2.711311 & -2.575371 & -2.593256 & -2.601900 & -2.593783 & -2.617698 & ⋯ & -2.564186 & -2.485433 & -2.420710 & -2.644094 & -2.528493 & -2.584468 & -2.678967 & -2.549457 & -2.615785 & -2.556145\\\\\n",
       "\\end{tabular}\n"
      ],
      "text/markdown": [
       "\n",
       "A matrix: 5 × 51 of type chr\n",
       "\n",
       "| state | AK        | AL        | AR        | AZ        | CA        | CO        | CT        | DC        | DE        | FL        | ⋯ | SD        | TN        | TX        | UT        | VA        | VT        | WA        | WI        | WV        | WY        |\n",
       "| 16 | -2.436927 | -2.384325 | -2.461036 | -2.361916 | -2.371913 | -2.500514 | -2.367492 | -2.360329 | -2.371377 | -2.366826 | ⋯ | -2.331882 | -2.442830 | -2.386100 | -2.306887 | -2.240098 | -2.376857 | -2.118283 | -2.366703 | -2.431521 | -2.391050 |\n",
       "| 18 | -3.227066 | -3.280982 | -3.495782 | -3.609338 | -3.031211 | -3.479078 | -3.181332 | -3.224603 | -3.162901 | -2.635243 | ⋯ | -3.071845 | -2.906184 | -3.390009 | -3.052826 | -3.056021 | -2.943151 | -2.921738 | -3.015478 | -3.118391 | -3.055671 |\n",
       "| 20 | -2.800660 | -2.726718 | -2.756582 | -2.845528 | -2.837950 | -2.892509 | -2.766439 | -2.796765 | -2.768780 | -2.750274 | ⋯ | -2.788828 | -2.861376 | -2.820050 | -2.826442 | -2.812517 | -2.791225 | -2.688974 | -2.813227 | -2.828231 | -2.783155 |\n",
       "| 22 | -2.617661 | -2.587248 | -2.660324 | -2.679024 | -2.711311 | -2.575371 | -2.593256 | -2.601900 | -2.593783 | -2.617698 | ⋯ | -2.564186 | -2.485433 | -2.420710 | -2.644094 | -2.528493 | -2.584468 | -2.678967 | -2.549457 | -2.615785 | -2.556145 |\n",
       "\n"
      ],
      "text/plain": [
       "      [,1]      [,2]      [,3]      [,4]      [,5]      [,6]      [,7]     \n",
       "state AK        AL        AR        AZ        CA        CO        CT       \n",
       "16    -2.436927 -2.384325 -2.461036 -2.361916 -2.371913 -2.500514 -2.367492\n",
       "18    -3.227066 -3.280982 -3.495782 -3.609338 -3.031211 -3.479078 -3.181332\n",
       "20    -2.800660 -2.726718 -2.756582 -2.845528 -2.837950 -2.892509 -2.766439\n",
       "22    -2.617661 -2.587248 -2.660324 -2.679024 -2.711311 -2.575371 -2.593256\n",
       "      [,8]      [,9]      [,10]     [,11] [,12]     [,13]     [,14]    \n",
       "state DC        DE        FL        ⋯     SD        TN        TX       \n",
       "16    -2.360329 -2.371377 -2.366826 ⋯     -2.331882 -2.442830 -2.386100\n",
       "18    -3.224603 -3.162901 -2.635243 ⋯     -3.071845 -2.906184 -3.390009\n",
       "20    -2.796765 -2.768780 -2.750274 ⋯     -2.788828 -2.861376 -2.820050\n",
       "22    -2.601900 -2.593783 -2.617698 ⋯     -2.564186 -2.485433 -2.420710\n",
       "      [,15]     [,16]     [,17]     [,18]     [,19]     [,20]     [,21]    \n",
       "state UT        VA        VT        WA        WI        WV        WY       \n",
       "16    -2.306887 -2.240098 -2.376857 -2.118283 -2.366703 -2.431521 -2.391050\n",
       "18    -3.052826 -3.056021 -2.943151 -2.921738 -3.015478 -3.118391 -3.055671\n",
       "20    -2.826442 -2.812517 -2.791225 -2.688974 -2.813227 -2.828231 -2.783155\n",
       "22    -2.644094 -2.528493 -2.584468 -2.678967 -2.549457 -2.615785 -2.556145"
      ]
     },
     "metadata": {},
     "output_type": "display_data"
    }
   ],
   "source": [
    "# Creating dataframe of intercepts for each state\n",
    "\n",
    "b1_15_16 = mod1_coef_df[1]\n",
    "b1_15_16[\"state\"] = row.names(b1_15_16)\n",
    "colnames(b1_15_16)[1] <- 16\n",
    "b2_17_18 = mod2_coef_df[1]\n",
    "b2_17_18[\"state\"] = row.names(b2_17_18)\n",
    "colnames(b2_17_18)[1] <- 18\n",
    "b3_19_20 = mod3_coef_df[1]\n",
    "b3_19_20[\"state\"] = row.names(b3_19_20)\n",
    "colnames(b3_19_20)[1] <- 20\n",
    "b3_21_22 = mod4_coef_df[1]\n",
    "b3_21_22[\"state\"] = row.names(b3_21_22)\n",
    "colnames(b3_21_22)[1] <- 22\n",
    "\n",
    "\n",
    "state_intercepts = merge(b1_15_16, b2_17_18, by = \"state\", all = TRUE)\n",
    "state_intercepts = merge(state_intercepts, b3_19_20, by = \"state\", all = TRUE)\n",
    "state_intercepts = merge(state_intercepts, b3_21_22, by = \"state\", all = TRUE)\n",
    "\n",
    "# RI does not have any shootings in batch 3\n",
    "t(state_intercepts)"
   ]
  },
  {
   "cell_type": "code",
   "execution_count": 80,
   "id": "8ca76e45",
   "metadata": {
    "vscode": {
     "languageId": "r"
    }
   },
   "outputs": [
    {
     "name": "stderr",
     "output_type": "stream",
     "text": [
      "\n",
      "Attaching package: ‘reshape’\n",
      "\n",
      "\n",
      "The following object is masked from ‘package:Matrix’:\n",
      "\n",
      "    expand\n",
      "\n",
      "\n",
      "The following object is masked from ‘package:lubridate’:\n",
      "\n",
      "    stamp\n",
      "\n",
      "\n",
      "The following object is masked from ‘package:dplyr’:\n",
      "\n",
      "    rename\n",
      "\n",
      "\n",
      "The following objects are masked from ‘package:tidyr’:\n",
      "\n",
      "    expand, smiths\n",
      "\n",
      "\n",
      "Warning message:\n",
      "“Removed 1 row(s) containing missing values (geom_path).”\n",
      "geom_path: Each group consists of only one observation. Do you need to adjust\n",
      "the group aesthetic?\n",
      "\n"
     ]
    },
    {
     "data": {
      "image/png": "[encoded data removed]",
      "text/plain": [
       "plot without title"
      ]
     },
     "metadata": {
      "image/png": {
       "height": 540,
       "width": 600
      }
     },
     "output_type": "display_data"
    }
   ],
   "source": [
    "library(ggplot2)\n",
    "library(reshape)\n",
    "Molten <- melt(state_intercepts, id.vars = \"state\")\n",
    "ggplot(Molten, aes(x = state, y = value, colour = variable)) + geom_line()"
   ]
  },
  {
   "cell_type": "code",
   "execution_count": null,
   "id": "ecf6134d",
   "metadata": {
    "vscode": {
     "languageId": "r"
    }
   },
   "outputs": [],
   "source": []
  }
 ],
 "metadata": {
  "kernelspec": {
   "display_name": "R",
   "language": "R",
   "name": "ir"
  },
  "language_info": {
   "codemirror_mode": "r",
   "file_extension": ".r",
   "mimetype": "text/x-r-source",
   "name": "R",
   "pygments_lexer": "r",
   "version": "3.6.3"
  }
 },
 "nbformat": 4,
 "nbformat_minor": 5
}
