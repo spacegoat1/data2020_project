{
 "cells": [
  {
   "cell_type": "code",
   "execution_count": null,
   "id": "aab6f8c7-ec71-4b0d-86df-c1386f2c061f",
   "metadata": {
    "vscode": {
     "languageId": "r"
    }
   },
   "outputs": [],
   "source": [
    "library(tidyverse)\n",
    "library(naniar)\n",
    "library(visdat)\n",
    "library(ggplot2)\n",
    "library(lubridate)\n",
    "library(gridExtra)\n",
    "library(GGally)\n",
    "library(corrr)\n",
    "library(dplyr)\n",
    "library(car)\n",
    "library(mgcv)\n",
    "library(ggfortify)"
   ]
  },
  {
   "cell_type": "markdown",
   "id": "ddab7f87",
   "metadata": {},
   "source": [
    "### 1. Initial data load and feature subset/tranform etc. "
   ]
  },
  {
   "cell_type": "code",
   "execution_count": 4,
   "id": "4377c249-d930-4c0e-b02d-adc92071f073",
   "metadata": {
    "vscode": {
     "languageId": "r"
    }
   },
   "outputs": [],
   "source": [
    "data = read.csv('data/fatal-police-shootings-data.csv', na.strings=c(\"\",\"NA\"))"
   ]
  },
  {
   "cell_type": "code",
   "execution_count": 5,
   "id": "41e8a224",
   "metadata": {
    "vscode": {
     "languageId": "r"
    }
   },
   "outputs": [
    {
     "data": {
      "text/html": [
       "<style>\n",
       ".list-inline {list-style: none; margin:0; padding: 0}\n",
       ".list-inline>li {display: inline-block}\n",
       ".list-inline>li:not(:last-child)::after {content: \"\\00b7\"; padding: 0 .5ex}\n",
       "</style>\n",
       "<ol class=list-inline><li>7291</li><li>19</li></ol>\n"
      ],
      "text/latex": [
       "\\begin{enumerate*}\n",
       "\\item 7291\n",
       "\\item 19\n",
       "\\end{enumerate*}\n"
      ],
      "text/markdown": [
       "1. 7291\n",
       "2. 19\n",
       "\n",
       "\n"
      ],
      "text/plain": [
       "[1] 7291   19"
      ]
     },
     "metadata": {},
     "output_type": "display_data"
    },
    {
     "data": {
      "text/html": [
       "<style>\n",
       ".list-inline {list-style: none; margin:0; padding: 0}\n",
       ".list-inline>li {display: inline-block}\n",
       ".list-inline>li:not(:last-child)::after {content: \"\\00b7\"; padding: 0 .5ex}\n",
       "</style>\n",
       "<ol class=list-inline><li>'id'</li><li>'name'</li><li>'date'</li><li>'manner_of_death'</li><li>'armed'</li><li>'age'</li><li>'gender'</li><li>'race'</li><li>'city'</li><li>'state'</li><li>'signs_of_mental_illness'</li><li>'threat_level'</li><li>'flee'</li><li>'body_camera'</li><li>'longitude'</li><li>'latitude'</li><li>'is_geocoding_exact'</li><li>'smha_exp_per_capita'</li><li>'smi_prevalance'</li></ol>\n"
      ],
      "text/latex": [
       "\\begin{enumerate*}\n",
       "\\item 'id'\n",
       "\\item 'name'\n",
       "\\item 'date'\n",
       "\\item 'manner\\_of\\_death'\n",
       "\\item 'armed'\n",
       "\\item 'age'\n",
       "\\item 'gender'\n",
       "\\item 'race'\n",
       "\\item 'city'\n",
       "\\item 'state'\n",
       "\\item 'signs\\_of\\_mental\\_illness'\n",
       "\\item 'threat\\_level'\n",
       "\\item 'flee'\n",
       "\\item 'body\\_camera'\n",
       "\\item 'longitude'\n",
       "\\item 'latitude'\n",
       "\\item 'is\\_geocoding\\_exact'\n",
       "\\item 'smha\\_exp\\_per\\_capita'\n",
       "\\item 'smi\\_prevalance'\n",
       "\\end{enumerate*}\n"
      ],
      "text/markdown": [
       "1. 'id'\n",
       "2. 'name'\n",
       "3. 'date'\n",
       "4. 'manner_of_death'\n",
       "5. 'armed'\n",
       "6. 'age'\n",
       "7. 'gender'\n",
       "8. 'race'\n",
       "9. 'city'\n",
       "10. 'state'\n",
       "11. 'signs_of_mental_illness'\n",
       "12. 'threat_level'\n",
       "13. 'flee'\n",
       "14. 'body_camera'\n",
       "15. 'longitude'\n",
       "16. 'latitude'\n",
       "17. 'is_geocoding_exact'\n",
       "18. 'smha_exp_per_capita'\n",
       "19. 'smi_prevalance'\n",
       "\n",
       "\n"
      ],
      "text/plain": [
       " [1] \"id\"                      \"name\"                   \n",
       " [3] \"date\"                    \"manner_of_death\"        \n",
       " [5] \"armed\"                   \"age\"                    \n",
       " [7] \"gender\"                  \"race\"                   \n",
       " [9] \"city\"                    \"state\"                  \n",
       "[11] \"signs_of_mental_illness\" \"threat_level\"           \n",
       "[13] \"flee\"                    \"body_camera\"            \n",
       "[15] \"longitude\"               \"latitude\"               \n",
       "[17] \"is_geocoding_exact\"      \"smha_exp_per_capita\"    \n",
       "[19] \"smi_prevalance\"         "
      ]
     },
     "metadata": {},
     "output_type": "display_data"
    }
   ],
   "source": [
    "dim(data)\n",
    "names(data)"
   ]
  },
  {
   "cell_type": "markdown",
   "id": "7a628b66",
   "metadata": {},
   "source": [
    "#### Drop features as necessary"
   ]
  },
  {
   "cell_type": "code",
   "execution_count": 8,
   "id": "c34da087",
   "metadata": {
    "vscode": {
     "languageId": "r"
    }
   },
   "outputs": [],
   "source": [
    "features_to_keep = c(\"date\",\"armed\",\"age\",\"gender\",\"race\",\"state\",\"flee\",\"body_camera\",\"signs_of_mental_illness\")\n",
    "data = data[, (names(data) %in% features_to_keep)]"
   ]
  },
  {
   "cell_type": "markdown",
   "id": "4b35fa64",
   "metadata": {},
   "source": [
    "#### Convert features to desired datatypes"
   ]
  },
  {
   "cell_type": "code",
   "execution_count": 9,
   "id": "c8674682",
   "metadata": {
    "vscode": {
     "languageId": "r"
    }
   },
   "outputs": [],
   "source": [
    "factor_cols = c(\"armed\", \"gender\", \"race\", \"state\", \"flee\", \"body_camera\", \"signs_of_mental_illness\")\n",
    "numeric_cols = c(\"age\")\n",
    "\n",
    "data <- data %>% \n",
    "    mutate(across(.cols=all_of(factor_cols), .fns = as.factor))\n",
    "data <- data %>% \n",
    "    mutate(across(.cols=all_of(numeric_cols), .fns = as.numeric))\n",
    "data <- data %>% \n",
    "    mutate(across(.cols=\"date\", .fns = as_date))"
   ]
  },
  {
   "cell_type": "markdown",
   "id": "3c32a30d",
   "metadata": {},
   "source": [
    "#### Transform features as required"
   ]
  },
  {
   "cell_type": "code",
   "execution_count": 10,
   "id": "78a1a080",
   "metadata": {
    "vscode": {
     "languageId": "r"
    }
   },
   "outputs": [],
   "source": [
    "# For some reason, this kept throwing an error for me, so I tried another method\n",
    "data = data %>% \n",
    "  mutate(armed = case_when(\n",
    "    armed == \"gun\" ~ \"gun\",\n",
    "    armed == \"knife\" ~ \"knife\",\n",
    "    armed == \"vehicle\" ~ \"vehicle\",\n",
    "    armed == \"unarmed\" ~ \"unarmed\",\n",
    "    armed == \"undetermined\" ~ \"undetermined\",\n",
    "    TRUE ~ \"other\",\n",
    "  )\n",
    ")"
   ]
  },
  {
   "cell_type": "code",
   "execution_count": 17,
   "id": "195201a3",
   "metadata": {
    "vscode": {
     "languageId": "r"
    }
   },
   "outputs": [
    {
     "data": {
      "text/html": [
       "<style>\n",
       ".dl-inline {width: auto; margin:0; padding: 0}\n",
       ".dl-inline>dt, .dl-inline>dd {float: none; width: auto; display: inline-block}\n",
       ".dl-inline>dt::after {content: \":\\0020\"; padding-right: .5ex}\n",
       ".dl-inline>dt:not(:first-of-type) {padding-left: .5ex}\n",
       "</style><dl class=dl-inline><dt>B</dt><dd>1595</dd><dt>H</dt><dd>1089</dd><dt>O</dt><dd>1584</dd><dt>W</dt><dd>3023</dd></dl>\n"
      ],
      "text/latex": [
       "\\begin{description*}\n",
       "\\item[B] 1595\n",
       "\\item[H] 1089\n",
       "\\item[O] 1584\n",
       "\\item[W] 3023\n",
       "\\end{description*}\n"
      ],
      "text/markdown": [
       "B\n",
       ":   1595H\n",
       ":   1089O\n",
       ":   1584W\n",
       ":   3023\n",
       "\n"
      ],
      "text/plain": [
       "   B    H    O    W \n",
       "1595 1089 1584 3023 "
      ]
     },
     "metadata": {},
     "output_type": "display_data"
    }
   ],
   "source": [
    "# Race -> Combine A/N/O/NA under O?\n",
    "data = data %>% \n",
    "  mutate(race = case_when(\n",
    "    race == \"W\" ~ \"W\",\n",
    "    race == \"B\" ~ \"B\",\n",
    "    race == \"H\" ~ \"H\",\n",
    "    TRUE ~ \"O\",\n",
    "  )\n",
    ")\n",
    "data$race = as.factor(data$race)\n",
    "summary(data$race)"
   ]
  },
  {
   "cell_type": "code",
   "execution_count": 19,
   "id": "45512ca6",
   "metadata": {
    "vscode": {
     "languageId": "r"
    }
   },
   "outputs": [
    {
     "data": {
      "text/html": [
       "<style>\n",
       ".dl-inline {width: auto; margin:0; padding: 0}\n",
       ".dl-inline>dt, .dl-inline>dd {float: none; width: auto; display: inline-block}\n",
       ".dl-inline>dt::after {content: \":\\0020\"; padding-right: .5ex}\n",
       ".dl-inline>dt:not(:first-of-type) {padding-left: .5ex}\n",
       "</style><dl class=dl-inline><dt>Car</dt><dd>1183</dd><dt>Foot</dt><dd>943</dd><dt>Missing</dt><dd>666</dd><dt>Not fleeing</dt><dd>4232</dd><dt>Other</dt><dd>267</dd></dl>\n"
      ],
      "text/latex": [
       "\\begin{description*}\n",
       "\\item[Car] 1183\n",
       "\\item[Foot] 943\n",
       "\\item[Missing] 666\n",
       "\\item[Not fleeing] 4232\n",
       "\\item[Other] 267\n",
       "\\end{description*}\n"
      ],
      "text/markdown": [
       "Car\n",
       ":   1183Foot\n",
       ":   943Missing\n",
       ":   666Not fleeing\n",
       ":   4232Other\n",
       ":   267\n",
       "\n"
      ],
      "text/plain": [
       "        Car        Foot     Missing Not fleeing       Other \n",
       "       1183         943         666        4232         267 "
      ]
     },
     "metadata": {},
     "output_type": "display_data"
    }
   ],
   "source": [
    "# Fleeing -> convert NA to 'Missing'\n",
    "data = data %>% \n",
    "  mutate(flee = case_when(\n",
    "    flee == \"Car\" ~ \"Car\",\n",
    "    flee == \"Foot\" ~ \"Foot\",\n",
    "    flee == \"Not fleeing\" ~ \"Not fleeing\",\n",
    "    flee == \"Other\" ~ \"Other\",\n",
    "    TRUE ~ \"Missing\",\n",
    "  )\n",
    ")\n",
    "data$flee = as.factor(data$flee)\n",
    "summary(data$flee)"
   ]
  },
  {
   "cell_type": "markdown",
   "id": "03015ae6-a36c-440d-a909-8b30960cb8ca",
   "metadata": {},
   "source": [
    "### 2. Dealing with missing values"
   ]
  },
  {
   "cell_type": "markdown",
   "id": "92d9a2a8-b59f-41a8-bc08-949786219ff2",
   "metadata": {},
   "source": [
    "Check missing data frequency for each column"
   ]
  },
  {
   "cell_type": "code",
   "execution_count": 21,
   "id": "1e465b1f",
   "metadata": {
    "vscode": {
     "languageId": "r"
    }
   },
   "outputs": [
    {
     "data": {
      "text/html": [
       "<table class=\"dataframe\">\n",
       "<caption>A data.frame: 9 × 1</caption>\n",
       "<thead>\n",
       "\t<tr><th></th><th scope=col>(colMeans(is.na(data))) * 100</th></tr>\n",
       "\t<tr><th></th><th scope=col>&lt;dbl&gt;</th></tr>\n",
       "</thead>\n",
       "<tbody>\n",
       "\t<tr><th scope=row>date</th><td>0.0000000</td></tr>\n",
       "\t<tr><th scope=row>armed</th><td>0.0000000</td></tr>\n",
       "\t<tr><th scope=row>age</th><td>5.7742422</td></tr>\n",
       "\t<tr><th scope=row>gender</th><td>0.1371554</td></tr>\n",
       "\t<tr><th scope=row>race</th><td>0.0000000</td></tr>\n",
       "\t<tr><th scope=row>state</th><td>0.0000000</td></tr>\n",
       "\t<tr><th scope=row>signs_of_mental_illness</th><td>0.0000000</td></tr>\n",
       "\t<tr><th scope=row>flee</th><td>0.0000000</td></tr>\n",
       "\t<tr><th scope=row>body_camera</th><td>0.0000000</td></tr>\n",
       "</tbody>\n",
       "</table>\n"
      ],
      "text/latex": [
       "A data.frame: 9 × 1\n",
       "\\begin{tabular}{r|l}\n",
       "  & (colMeans(is.na(data))) * 100\\\\\n",
       "  & <dbl>\\\\\n",
       "\\hline\n",
       "\tdate & 0.0000000\\\\\n",
       "\tarmed & 0.0000000\\\\\n",
       "\tage & 5.7742422\\\\\n",
       "\tgender & 0.1371554\\\\\n",
       "\trace & 0.0000000\\\\\n",
       "\tstate & 0.0000000\\\\\n",
       "\tsigns\\_of\\_mental\\_illness & 0.0000000\\\\\n",
       "\tflee & 0.0000000\\\\\n",
       "\tbody\\_camera & 0.0000000\\\\\n",
       "\\end{tabular}\n"
      ],
      "text/markdown": [
       "\n",
       "A data.frame: 9 × 1\n",
       "\n",
       "| <!--/--> | (colMeans(is.na(data))) * 100 &lt;dbl&gt; |\n",
       "|---|---|\n",
       "| date | 0.0000000 |\n",
       "| armed | 0.0000000 |\n",
       "| age | 5.7742422 |\n",
       "| gender | 0.1371554 |\n",
       "| race | 0.0000000 |\n",
       "| state | 0.0000000 |\n",
       "| signs_of_mental_illness | 0.0000000 |\n",
       "| flee | 0.0000000 |\n",
       "| body_camera | 0.0000000 |\n",
       "\n"
      ],
      "text/plain": [
       "                        (colMeans(is.na(data))) * 100\n",
       "date                    0.0000000                    \n",
       "armed                   0.0000000                    \n",
       "age                     5.7742422                    \n",
       "gender                  0.1371554                    \n",
       "race                    0.0000000                    \n",
       "state                   0.0000000                    \n",
       "signs_of_mental_illness 0.0000000                    \n",
       "flee                    0.0000000                    \n",
       "body_camera             0.0000000                    "
      ]
     },
     "metadata": {},
     "output_type": "display_data"
    }
   ],
   "source": [
    "# Percent missing values per column\n",
    "as.data.frame((colMeans(is.na(data)))*100)"
   ]
  },
  {
   "cell_type": "markdown",
   "id": "ff719b79-51a5-4702-95f7-8d82b6574524",
   "metadata": {},
   "source": [
    "Check patterns in data missingness"
   ]
  },
  {
   "cell_type": "code",
   "execution_count": 22,
   "id": "5fab5dc4",
   "metadata": {
    "vscode": {
     "languageId": "r"
    }
   },
   "outputs": [
    {
     "data": {
      "image/png": "[encoded data removed]",
      "text/plain": [
       "plot without title"
      ]
     },
     "metadata": {
      "image/png": {
       "height": 540,
       "width": 600
      }
     },
     "output_type": "display_data"
    }
   ],
   "source": [
    "options(repr.plot.width=10, repr.plot.height=9)\n",
    "vis_miss(data)"
   ]
  },
  {
   "cell_type": "code",
   "execution_count": 23,
   "id": "23696d22",
   "metadata": {
    "vscode": {
     "languageId": "r"
    }
   },
   "outputs": [
    {
     "data": {
      "image/png": "[encoded data removed]",
      "text/plain": [
       "plot without title"
      ]
     },
     "metadata": {
      "image/png": {
       "height": 540,
       "width": 600
      }
     },
     "output_type": "display_data"
    }
   ],
   "source": [
    "vis_miss(data, cluster = TRUE, sort_miss = TRUE)"
   ]
  },
  {
   "cell_type": "code",
   "execution_count": 26,
   "id": "245ea751",
   "metadata": {
    "vscode": {
     "languageId": "r"
    }
   },
   "outputs": [
    {
     "data": {
      "text/html": [
       "<style>\n",
       ".dl-inline {width: auto; margin:0; padding: 0}\n",
       ".dl-inline>dt, .dl-inline>dd {float: none; width: auto; display: inline-block}\n",
       ".dl-inline>dt::after {content: \":\\0020\"; padding-right: .5ex}\n",
       ".dl-inline>dt:not(:first-of-type) {padding-left: .5ex}\n",
       "</style><dl class=dl-inline><dt>F</dt><dd>330</dd><dt>M</dt><dd>6951</dd><dt>NA's</dt><dd>10</dd></dl>\n"
      ],
      "text/latex": [
       "\\begin{description*}\n",
       "\\item[F] 330\n",
       "\\item[M] 6951\n",
       "\\item[NA's] 10\n",
       "\\end{description*}\n"
      ],
      "text/markdown": [
       "F\n",
       ":   330M\n",
       ":   6951NA's\n",
       ":   10\n",
       "\n"
      ],
      "text/plain": [
       "   F    M NA's \n",
       " 330 6951   10 "
      ]
     },
     "metadata": {},
     "output_type": "display_data"
    }
   ],
   "source": [
    "summary(data$gender)"
   ]
  },
  {
   "cell_type": "code",
   "execution_count": 35,
   "id": "ff2d1ec7",
   "metadata": {
    "vscode": {
     "languageId": "r"
    }
   },
   "outputs": [],
   "source": [
    "# Drop where gender is NA? The observations are too few in number to add as a category\n",
    "data = data %>% drop_na(gender)"
   ]
  },
  {
   "cell_type": "code",
   "execution_count": 33,
   "id": "2223ba42",
   "metadata": {
    "vscode": {
     "languageId": "r"
    }
   },
   "outputs": [],
   "source": [
    "# Age -> use mean/median imputation?\n",
    "data$age[is.na(data$age)] <- median(data$age, na.rm = T)"
   ]
  },
  {
   "cell_type": "markdown",
   "id": "7400910f",
   "metadata": {},
   "source": [
    "> Missing values have been dealt with, but it would have been a good idea to check if the missingness pattern in age was MCAR/MAR/MNAR"
   ]
  },
  {
   "cell_type": "markdown",
   "id": "55da639d-36c5-4425-a35a-f6b6782231ba",
   "metadata": {},
   "source": [
    "### 3. Evaluation metric discussion"
   ]
  },
  {
   "cell_type": "markdown",
   "id": "f2f7ed47",
   "metadata": {
    "vscode": {
     "languageId": "r"
    }
   },
   "source": [
    "Since this is logistic regression and we are focused on interpretation, it may make sense to look at pure accuracy after using the model weightages as suggested by Alice, to handle the imbalanced nature of the target. "
   ]
  },
  {
   "cell_type": "markdown",
   "id": "86c79bbb",
   "metadata": {},
   "source": []
  }
 ],
 "metadata": {
  "kernelspec": {
   "display_name": "R",
   "language": "R",
   "name": "ir"
  },
  "language_info": {
   "codemirror_mode": "r",
   "file_extension": ".r",
   "mimetype": "text/x-r-source",
   "name": "R",
   "pygments_lexer": "r",
   "version": "3.6.3"
  }
 },
 "nbformat": 4,
 "nbformat_minor": 5
}
